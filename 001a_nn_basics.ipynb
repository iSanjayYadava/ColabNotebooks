{
  "nbformat": 4,
  "nbformat_minor": 0,
  "metadata": {
    "colab": {
      "name": "001a_nn_basics.ipynb",
      "version": "0.3.2",
      "provenance": [],
      "collapsed_sections": [],
      "include_colab_link": true
    },
    "kernelspec": {
      "name": "python3",
      "display_name": "Python 3"
    },
    "accelerator": "GPU"
  },
  "cells": [
    {
      "cell_type": "markdown",
      "metadata": {
        "id": "view-in-github",
        "colab_type": "text"
      },
      "source": [
        "<a href=\"https://colab.research.google.com/github/iSanjayYadava/ColabNotebooks/blob/master/001a_nn_basics.ipynb\" target=\"_parent\"><img src=\"https://colab.research.google.com/assets/colab-badge.svg\" alt=\"Open In Colab\"/></a>"
      ]
    },
    {
      "metadata": {
        "id": "UXvpJbf1u_te",
        "colab_type": "text"
      },
      "cell_type": "markdown",
      "source": [
        "# What is `torch.nn` *really*?\n",
        "\n",
        "## A quick journey: from neural net \"from scratch\", to fully utilizing `torch.nn`, `torch.optim`, `Dataset`, and `DataLoader`"
      ]
    },
    {
      "metadata": {
        "id": "_-OWeM-9u_tn",
        "colab_type": "text"
      },
      "cell_type": "markdown",
      "source": [
        "*by Jeremy Howard, fast.ai. Thanks to Rachel Thomas and Francisco Ingham.*\n",
        "\n",
        "PyTorch provides the elegantly designed modules and classes `torch.nn`, `torch.optim`, `Dataset`, and `DataLoader` to help you create and\n",
        " train neural networks. In order to fully utilize their power and customize them for your problem, you need to really understand exactly what they're doing. To develop this understanding, we will first train basic neural net on the MNIST data set without using any features from these models; we will initially only use the most basic PyTorch tensor functionality. Then, we will incrementally add one feature from `torch.nn`, `torch.optim`, `Dataset`, or `DataLoader` at a time, showing exactly what each piece does, and how it works to make the code either more concise, or more flexible.\n",
        "\n",
        "**This tutorial assumes you already have PyTorch installed, and are familiar with the basics of tensor operations.** (If you're familiar with Numpy array operations, you'll find the PyTorch tensor operations used here nearly identical)."
      ]
    },
    {
      "metadata": {
        "id": "X33ntwcCu_ts",
        "colab_type": "text"
      },
      "cell_type": "markdown",
      "source": [
        "## MNIST data setup"
      ]
    },
    {
      "metadata": {
        "id": "L1dp8RY0u_tz",
        "colab_type": "text"
      },
      "cell_type": "markdown",
      "source": [
        "We will use the classic [MNIST](http://deeplearning.net/data/mnist/) dataset, which consists of black-and-white images of hand-drawn digits (between 0 and 9).\n",
        "\n",
        "We will use [pathlib](https://docs.python.org/3/library/pathlib.html) for dealing with paths (part of the Python 3 standard library), and will download the dataset using [requests](https://docs.python-requests.org/en/master/). We will only import modules when we use them, so you can see exactly what's being used at each point."
      ]
    },
    {
      "metadata": {
        "id": "lu0bQ_eZu_t3",
        "colab_type": "code",
        "colab": {}
      },
      "cell_type": "code",
      "source": [
        "from pathlib import Path\n",
        "import requests\n",
        "\n",
        "DATA_PATH = Path('data')\n",
        "PATH = DATA_PATH/'mnist'\n",
        "\n",
        "PATH.mkdir(parents=True, exist_ok=True)\n",
        "\n",
        "URL='http://deeplearning.net/data/mnist/'\n",
        "FILENAME='mnist.pkl.gz'\n",
        "\n",
        "if not (PATH/FILENAME).exists():\n",
        "    content = requests.get(URL+FILENAME).content\n",
        "    (PATH/FILENAME).open('wb').write(content)"
      ],
      "execution_count": 0,
      "outputs": []
    },
    {
      "metadata": {
        "id": "9mq-eesVu_uG",
        "colab_type": "text"
      },
      "cell_type": "markdown",
      "source": [
        "This dataset is in numpy array format, and has been stored using pickle, a python-specific format for serializing data."
      ]
    },
    {
      "metadata": {
        "id": "xLOPg6_0u_uJ",
        "colab_type": "code",
        "colab": {}
      },
      "cell_type": "code",
      "source": [
        "import pickle, gzip\n",
        "\n",
        "with gzip.open(PATH/FILENAME, 'rb') as f:\n",
        "    ((x_train, y_train), (x_valid, y_valid), _) = pickle.load(f, encoding='latin-1')"
      ],
      "execution_count": 0,
      "outputs": []
    },
    {
      "metadata": {
        "id": "CO5VdY_zu_uT",
        "colab_type": "text"
      },
      "cell_type": "markdown",
      "source": [
        "Each image is 28 x 28, and is being stored as a flattened row of length 784 (=28x28). Let's take a look at one; we need to reshape it to 2d first."
      ]
    },
    {
      "metadata": {
        "id": "1_fvW52vu_uV",
        "colab_type": "code",
        "outputId": "efcf7b18-d985-4865-aa4e-56e012c7f089",
        "colab": {
          "base_uri": "https://localhost:8080/",
          "height": 282
        }
      },
      "cell_type": "code",
      "source": [
        "%matplotlib inline\n",
        "\n",
        "from matplotlib import pyplot\n",
        "import numpy as np\n",
        "\n",
        "pyplot.imshow(x_train[0].reshape((28,28)), cmap=\"gray\")\n",
        "x_train.shape"
      ],
      "execution_count": 0,
      "outputs": [
        {
          "output_type": "execute_result",
          "data": {
            "text/plain": [
              "(50000, 784)"
            ]
          },
          "metadata": {
            "tags": []
          },
          "execution_count": 6
        },
        {
          "output_type": "display_data",
          "data": {
            "image/png": "[encoded data removed]",
            "text/plain": [
              "<Figure size 432x288 with 1 Axes>"
            ]
          },
          "metadata": {
            "tags": []
          }
        }
      ]
    },
    {
      "metadata": {
        "id": "WFPu3VMgu_ue",
        "colab_type": "text"
      },
      "cell_type": "markdown",
      "source": [
        "PyTorch uses `torch.tensor`, rather than numpy arrays, so we need to convert our data."
      ]
    },
    {
      "metadata": {
        "id": "qr44swpuu_ui",
        "colab_type": "code",
        "outputId": "971a28fb-0efa-4cee-c3d3-71296290dc79",
        "colab": {
          "base_uri": "https://localhost:8080/",
          "height": 187
        }
      },
      "cell_type": "code",
      "source": [
        "import torch \n",
        "\n",
        "x_train,y_train,x_valid,y_valid = map(torch.tensor, (x_train,y_train,x_valid,y_valid))\n",
        "n,c = x_train.shape\n",
        "x_train, x_train.shape, y_train.min(), y_train.max()"
      ],
      "execution_count": 0,
      "outputs": [
        {
          "output_type": "execute_result",
          "data": {
            "text/plain": [
              "(tensor([[0., 0., 0.,  ..., 0., 0., 0.],\n",
              "         [0., 0., 0.,  ..., 0., 0., 0.],\n",
              "         [0., 0., 0.,  ..., 0., 0., 0.],\n",
              "         ...,\n",
              "         [0., 0., 0.,  ..., 0., 0., 0.],\n",
              "         [0., 0., 0.,  ..., 0., 0., 0.],\n",
              "         [0., 0., 0.,  ..., 0., 0., 0.]]),\n",
              " torch.Size([50000, 784]),\n",
              " tensor(0),\n",
              " tensor(9))"
            ]
          },
          "metadata": {
            "tags": []
          },
          "execution_count": 7
        }
      ]
    },
    {
      "metadata": {
        "id": "kMV88J9Hu_ur",
        "colab_type": "text"
      },
      "cell_type": "markdown",
      "source": [
        "## Neural net from scratch (no `torch.nn`)"
      ]
    },
    {
      "metadata": {
        "id": "gTUIvIWEu_uw",
        "colab_type": "text"
      },
      "cell_type": "markdown",
      "source": [
        "Let's first create a model using nothing but PyTorch tensor operations. We're assuming you're already familiar with the basics of neural networks. (If you're not, you can learn them at [course.fast.ai](http://course.fast.ai).)\n",
        "\n",
        "PyTorch provides methods to create random or zero-filled tensors, which we will use to create our weights and bias for a simple linear model. These are just regular tensors, with one very special addition: we tell PyTorch that they require a gradient. This causes PyTorch to record all of the operations done on the tensor, so that it can calculate the gradient during back-propagation *automatically*!\n",
        "\n",
        "For the weights, we set `requires_grad` **after** the initialization, since we don't want that step included in the gradient. (Note that a trailling `_` in PyTorch signifies that the operation is performed in-place.)\n",
        "\n",
        "*NB: We are initializing the weights here with [Xavier initialisation](http://proceedings.mlr.press/v9/glorot10a/glorot10a.pdf) (by multiplying with 1/sqrt(n)).*"
      ]
    },
    {
      "metadata": {
        "id": "LendFI0Zu_uz",
        "colab_type": "code",
        "colab": {}
      },
      "cell_type": "code",
      "source": [
        "import math\n",
        "\n",
        "weights = torch.randn(784,10)/math.sqrt(784)\n",
        "weights.requires_grad_()\n",
        "bias = torch.zeros(10, requires_grad=True)"
      ],
      "execution_count": 0,
      "outputs": []
    },
    {
      "metadata": {
        "id": "fes--cQ6u_u_",
        "colab_type": "text"
      },
      "cell_type": "markdown",
      "source": [
        "Thanks to PyTorch's ability to calculate gradients automatically, we can use any standard Python function (or callable object) as a model! So let's just write a plain matrix multiplication and broadcasted addition to create a simple linear model. We also need an activation function, so we'll write `log_softmax` and use it. Remember: although PyTorch provides lots of pre-written loss functions, activation functions, and so forth, you can easily write your own using plain python. PyTorch will even create fast GPU or vectorized CPU code for your function automatically."
      ]
    },
    {
      "metadata": {
        "id": "Xej7e0mKu_vB",
        "colab_type": "code",
        "colab": {}
      },
      "cell_type": "code",
      "source": [
        "def log_softmax(x): return x - x.exp().sum(-1).log().unsqueeze(-1)\n",
        "\n",
        "def model(xb):      return log_softmax(xb @ weights + bias)"
      ],
      "execution_count": 0,
      "outputs": []
    },
    {
      "metadata": {
        "id": "hmBVS57Uu_vL",
        "colab_type": "text"
      },
      "cell_type": "markdown",
      "source": [
        "In the above, the '@' stands for the dot product operation. We will call our function on one batch of data (in this case, 64 images).  This is one *forward pass*.  Note that our predictions won't be any better than random at this stage, since we start with random weights."
      ]
    },
    {
      "metadata": {
        "id": "-w_QOD63u_vQ",
        "colab_type": "code",
        "outputId": "5456415f-abd0-4782-bb92-cee7196da4fc",
        "colab": {
          "base_uri": "https://localhost:8080/",
          "height": 51
        }
      },
      "cell_type": "code",
      "source": [
        "bs=64                  # batch size\n",
        "\n",
        "xb = x_train[0:bs]     # a mini-batch from x\n",
        "preds = model(xb)      # predictions\n",
        "preds[0], preds.shape"
      ],
      "execution_count": 0,
      "outputs": [
        {
          "output_type": "execute_result",
          "data": {
            "text/plain": [
              "(tensor([-2.4619, -2.1965, -2.1974, -2.0810, -2.0279, -2.1983, -2.4567, -2.8560,\n",
              "         -2.8704, -2.0784], grad_fn=<SelectBackward>), torch.Size([64, 10]))"
            ]
          },
          "metadata": {
            "tags": []
          },
          "execution_count": 10
        }
      ]
    },
    {
      "metadata": {
        "id": "zPckFzhKu_vW",
        "colab_type": "text"
      },
      "cell_type": "markdown",
      "source": [
        "As you see, the `preds` tensor contains not only the tensor values, but also a gradient function. We'll use this later to do backprop.\n",
        "\n",
        "Let's implement negative log-likelihood to use as the loss function (again, we can just use standard Python):"
      ]
    },
    {
      "metadata": {
        "id": "i8ehfEG3u_vY",
        "colab_type": "code",
        "colab": {}
      },
      "cell_type": "code",
      "source": [
        "def nll(input, target): return -input[range(target.shape[0]), target].mean()\n",
        "loss_func = nll"
      ],
      "execution_count": 0,
      "outputs": []
    },
    {
      "metadata": {
        "id": "pi19dgPBu_vf",
        "colab_type": "text"
      },
      "cell_type": "markdown",
      "source": [
        "Let's check our loss with our random model, so we can see if we improve after a backprop pass later."
      ]
    },
    {
      "metadata": {
        "id": "6WYJb3K-u_vh",
        "colab_type": "code",
        "outputId": "6e77df42-d018-4343-aa46-bc791959a7f8",
        "colab": {
          "base_uri": "https://localhost:8080/",
          "height": 34
        }
      },
      "cell_type": "code",
      "source": [
        "yb = y_train[0:bs]\n",
        "loss_func(preds, yb)"
      ],
      "execution_count": 0,
      "outputs": [
        {
          "output_type": "execute_result",
          "data": {
            "text/plain": [
              "tensor(2.3408, grad_fn=<NegBackward>)"
            ]
          },
          "metadata": {
            "tags": []
          },
          "execution_count": 12
        }
      ]
    },
    {
      "metadata": {
        "id": "1NjoknUiu_vr",
        "colab_type": "text"
      },
      "cell_type": "markdown",
      "source": [
        "Let's also implement a function to calculate the accuracy of our model. For each prediction, if the index with the largest value matches the target value, then the prediction was correct."
      ]
    },
    {
      "metadata": {
        "id": "nzGcNngju_vu",
        "colab_type": "code",
        "colab": {}
      },
      "cell_type": "code",
      "source": [
        "def accuracy(out, yb):\n",
        "    preds = torch.argmax(out, dim=1)\n",
        "    return (preds==yb).float().mean()"
      ],
      "execution_count": 0,
      "outputs": []
    },
    {
      "metadata": {
        "id": "K4qSSdGKu_v6",
        "colab_type": "text"
      },
      "cell_type": "markdown",
      "source": [
        "Let's check the accuracy of our random model, so we can see if our accuracy improves as our loss improves."
      ]
    },
    {
      "metadata": {
        "id": "AlwvQqc1u_v6",
        "colab_type": "code",
        "outputId": "93b33569-1d2d-4bf0-f75c-bb6223d30e0b",
        "colab": {
          "base_uri": "https://localhost:8080/",
          "height": 34
        }
      },
      "cell_type": "code",
      "source": [
        "accuracy(preds, yb)"
      ],
      "execution_count": 0,
      "outputs": [
        {
          "output_type": "execute_result",
          "data": {
            "text/plain": [
              "tensor(0.0938)"
            ]
          },
          "metadata": {
            "tags": []
          },
          "execution_count": 14
        }
      ]
    },
    {
      "metadata": {
        "id": "UimXqXdXu_wA",
        "colab_type": "text"
      },
      "cell_type": "markdown",
      "source": [
        "We can now run a training loop.  For each iteration, we will:\n",
        "\n",
        "- select a mini-batch of data (of size `bs`)\n",
        "- use the model to make predictions\n",
        "- calculate the loss\n",
        "- `loss.backward()` updates the gradients of the model, in this case, `weights` and `bias`.\n",
        "- We now use these gradients to update the weights and bias.  We do this within the `torch.no_grad()` context manager, because we do not want these actions to be recorded for our next calculation of the gradient.  You can read more about how PyTorch's Autograd records operations [here](https://pytorch.org/docs/stable/notes/autograd.html).\n",
        "- We then set the gradients to zero, so that we are ready for the next loop.  Otherwise, our gradients would record a running tally of all the operations that had happened (i.e. `loss.backward()` *adds* the gradients to whatever is already stored, rather than replacing them)."
      ]
    },
    {
      "metadata": {
        "id": "KxPdSZrDu_wG",
        "colab_type": "text"
      },
      "cell_type": "markdown",
      "source": [
        "*Handy tip: you can use the standard python debugger to step through PyTorch code, allowing you to check the various variable values at each step. Uncomment `set_trace()` below to try it out.*"
      ]
    },
    {
      "metadata": {
        "id": "07Tql3x0u_wK",
        "colab_type": "code",
        "colab": {}
      },
      "cell_type": "code",
      "source": [
        "from IPython.core.debugger import set_trace\n",
        "\n",
        "lr = 0.5   # learning rate\n",
        "epochs = 2 # how many epochs to train for"
      ],
      "execution_count": 0,
      "outputs": []
    },
    {
      "metadata": {
        "id": "SnLn2fOvu_wS",
        "colab_type": "code",
        "colab": {}
      },
      "cell_type": "code",
      "source": [
        "for epoch in range(epochs):\n",
        "    for i in range((n-1)//bs + 1):\n",
        "#         set_trace()\n",
        "        start_i = i*bs\n",
        "        end_i = start_i+bs\n",
        "        xb = x_train[start_i:end_i]\n",
        "        yb = y_train[start_i:end_i]\n",
        "        pred = model(xb)\n",
        "        loss = loss_func(pred, yb)\n",
        "\n",
        "        loss.backward()\n",
        "        with torch.no_grad():\n",
        "            weights -= weights.grad * lr\n",
        "            bias -= bias.grad * lr\n",
        "            weights.grad.zero_()\n",
        "            bias.grad.zero_()"
      ],
      "execution_count": 0,
      "outputs": []
    },
    {
      "metadata": {
        "id": "HrGUePieu_wb",
        "colab_type": "text"
      },
      "cell_type": "markdown",
      "source": [
        "That's it: we've created and trained a minimal neural network (in this case, a logistic regression, since we have no hidden layers) entirely from scratch!\n",
        "\n",
        "Let's check the loss and accuracy and compare those to what we got earlier. We expect that the loss will have decreased and accuracy to have increased, and they have."
      ]
    },
    {
      "metadata": {
        "id": "cFyns_R4u_wd",
        "colab_type": "code",
        "outputId": "09742663-1f99-4a5f-c249-7ad1922f4476",
        "colab": {
          "base_uri": "https://localhost:8080/",
          "height": 34
        }
      },
      "cell_type": "code",
      "source": [
        "loss_func(model(xb), yb), accuracy(model(xb), yb)"
      ],
      "execution_count": 0,
      "outputs": [
        {
          "output_type": "execute_result",
          "data": {
            "text/plain": [
              "(tensor(0.0815, grad_fn=<NegBackward>), tensor(1.))"
            ]
          },
          "metadata": {
            "tags": []
          },
          "execution_count": 17
        }
      ]
    },
    {
      "metadata": {
        "id": "4cXOZ3i8u_wi",
        "colab_type": "text"
      },
      "cell_type": "markdown",
      "source": [
        "## Using `torch.nn.functional`"
      ]
    },
    {
      "metadata": {
        "id": "tm-jq9Uju_wx",
        "colab_type": "text"
      },
      "cell_type": "markdown",
      "source": [
        "We will now refactor our code, so that it does the same thing as before, only we'll start taking advantage of PyTorch's `nn` classes to make it more concise and flexible. At each step from here, we should be making our code one or more of: shorter, more understandable, and/or more flexible.\n",
        "\n",
        "The first and easiest step is to make our code shorter by replacing our hand-written activation and loss functions with those from `torch.nn.functional` (which is generally imported into the namespace `F` by convention). This module contains all the functions in the `torch.nn` library (whereas other parts of the library contain classes). As well as a wide range of loss and activation functions, you'll also find here some convenient functions for creating neural nets, such as pooling functions. (There are also functions for doing convolutions, linear layers, etc, but as we'll see, these are usually better handled using other parts of the library.)\n",
        "\n",
        "If you're using negative log likelihood loss and log softmax activation, then Pytorch provides a single function `F.cross_entropy` that combines the two. So we can even remove the activation function from our model."
      ]
    },
    {
      "metadata": {
        "id": "H6LHqIXXu_wy",
        "colab_type": "code",
        "colab": {}
      },
      "cell_type": "code",
      "source": [
        "import torch.nn.functional as F\n",
        "loss_func = F.cross_entropy\n",
        "\n",
        "def model(xb): return xb @ weights + bias"
      ],
      "execution_count": 0,
      "outputs": []
    },
    {
      "metadata": {
        "id": "1OITP1qlu_w9",
        "colab_type": "text"
      },
      "cell_type": "markdown",
      "source": [
        "Note that we no longer call `log_softmax` in the `model` function. Let's confirm that our loss and accuracy are the same as before:"
      ]
    },
    {
      "metadata": {
        "id": "SZfnsT00u_xB",
        "colab_type": "code",
        "outputId": "7d413578-8b2b-4c4c-cddd-b5e465b6e492",
        "colab": {
          "base_uri": "https://localhost:8080/",
          "height": 34
        }
      },
      "cell_type": "code",
      "source": [
        "loss_func(model(xb), yb), accuracy(model(xb), yb)"
      ],
      "execution_count": 0,
      "outputs": [
        {
          "output_type": "execute_result",
          "data": {
            "text/plain": [
              "(tensor(0.0815, grad_fn=<NllLossBackward>), tensor(1.))"
            ]
          },
          "metadata": {
            "tags": []
          },
          "execution_count": 19
        }
      ]
    },
    {
      "metadata": {
        "id": "1C3NMVlDu_xL",
        "colab_type": "text"
      },
      "cell_type": "markdown",
      "source": [
        "## Refactor using nn.Module"
      ]
    },
    {
      "metadata": {
        "id": "nSaK9Chpu_xN",
        "colab_type": "text"
      },
      "cell_type": "markdown",
      "source": [
        "Next up, we'll use `nn.Module` and `nn.Parameter`, for a clearer and more concise training loop. We subclass `nn.Module` (which itself is a class and able to keep track of state).  In this case, we want to create a class that holds our weights, bias, and method for the forward step.  `nn.Module` has a number of attributes and methods (such as `.parameters()` and `.zero_grad()`) which we will be using.\n",
        "\n",
        "**NB**: `nn.Module` (uppercase M) is a PyTorch specific concept, and is a class we'll be using a lot. `nn.Module` is not to be confused with the Python concept of a (lowercase m) [module](https://docs.python.org/3/tutorial/modules.html), which is a file of Python code that can be imported."
      ]
    },
    {
      "metadata": {
        "id": "QYKwHNn5u_xO",
        "colab_type": "code",
        "colab": {}
      },
      "cell_type": "code",
      "source": [
        "from torch import nn\n",
        "\n",
        "class Mnist_Logistic(nn.Module):\n",
        "    def __init__(self):\n",
        "        super().__init__()\n",
        "        self.weights = nn.Parameter(torch.randn(784,10)/math.sqrt(784))\n",
        "        self.bias = nn.Parameter(torch.zeros(10))\n",
        "\n",
        "    def forward(self, xb): return xb @ self.weights + self.bias"
      ],
      "execution_count": 0,
      "outputs": []
    },
    {
      "metadata": {
        "id": "Ks9vQAERu_xc",
        "colab_type": "text"
      },
      "cell_type": "markdown",
      "source": [
        "Since we're now using an object instead of just using a function, we first have to instantiate our model:"
      ]
    },
    {
      "metadata": {
        "id": "ilCGZxFHu_xi",
        "colab_type": "code",
        "colab": {}
      },
      "cell_type": "code",
      "source": [
        "model = Mnist_Logistic()"
      ],
      "execution_count": 0,
      "outputs": []
    },
    {
      "metadata": {
        "id": "WO55niYxu_xr",
        "colab_type": "text"
      },
      "cell_type": "markdown",
      "source": [
        "Now we can calculate the loss in the same way as before. Note that `nn.Module` objects are used as if they are functions (i.e they are *callable*), but behind the scenes Pytorch will call our `forward` method automatically."
      ]
    },
    {
      "metadata": {
        "id": "IDkZ6pKtu_xt",
        "colab_type": "code",
        "outputId": "c89f8523-a021-456c-c7b8-a50ea7d939ec",
        "colab": {
          "base_uri": "https://localhost:8080/",
          "height": 34
        }
      },
      "cell_type": "code",
      "source": [
        "loss_func(model(xb), yb)"
      ],
      "execution_count": 0,
      "outputs": [
        {
          "output_type": "execute_result",
          "data": {
            "text/plain": [
              "tensor(2.2837, grad_fn=<NllLossBackward>)"
            ]
          },
          "metadata": {
            "tags": []
          },
          "execution_count": 22
        }
      ]
    },
    {
      "metadata": {
        "id": "MyTkRYotu_x1",
        "colab_type": "text"
      },
      "cell_type": "markdown",
      "source": [
        "Previously for our training loop we had to update the values for each parameter by name, and manually zero out the grads for each parameter separately, like this:\n",
        "\n",
        "```python\n",
        "with torch.no_grad():\n",
        "    weights -= weights.grad * lr\n",
        "    bias -= bias.grad * lr\n",
        "    weights.grad.zero_()\n",
        "    bias.grad.zero_()\n",
        "```\n",
        "\n",
        "Now we can take advantage of model.parameters() and model.zero_grad() (which are both defined by PyTorch for `nn.Module`) to make those steps more concise and less prone to the error of forgetting some of our parameters, particularly if we had a more complicated model:\n",
        "\n",
        "```python\n",
        "with torch.no_grad():\n",
        "    for p in model.parameters(): p -= p.grad * lr\n",
        "    model.zero_grad()\n",
        "```\n",
        "\n",
        "We'll wrap our little training loop in a `fit` function so we can run it again later."
      ]
    },
    {
      "metadata": {
        "id": "QE8sJHxJu_x3",
        "colab_type": "code",
        "colab": {}
      },
      "cell_type": "code",
      "source": [
        "def fit():\n",
        "    for epoch in range(epochs):\n",
        "        for i in range((n-1)//bs + 1):\n",
        "            start_i = i*bs\n",
        "            end_i = start_i+bs\n",
        "            xb = x_train[start_i:end_i]\n",
        "            yb = y_train[start_i:end_i]\n",
        "            pred = model(xb)\n",
        "            loss = loss_func(pred, yb)\n",
        "\n",
        "            loss.backward()\n",
        "            with torch.no_grad():\n",
        "                for p in model.parameters(): p -= p.grad * lr\n",
        "                model.zero_grad()"
      ],
      "execution_count": 0,
      "outputs": []
    },
    {
      "metadata": {
        "id": "Q_PA1RDFu_x7",
        "colab_type": "code",
        "colab": {}
      },
      "cell_type": "code",
      "source": [
        "fit()"
      ],
      "execution_count": 0,
      "outputs": []
    },
    {
      "metadata": {
        "id": "imiCxg3Qu_yH",
        "colab_type": "text"
      },
      "cell_type": "markdown",
      "source": [
        "Let's double-check that our loss has gone down:"
      ]
    },
    {
      "metadata": {
        "id": "odAK7HB-u_yI",
        "colab_type": "code",
        "outputId": "7d34699e-599c-4ad1-afc9-cf034c81447b",
        "colab": {
          "base_uri": "https://localhost:8080/",
          "height": 34
        }
      },
      "cell_type": "code",
      "source": [
        "loss_func(model(xb), yb)"
      ],
      "execution_count": 0,
      "outputs": [
        {
          "output_type": "execute_result",
          "data": {
            "text/plain": [
              "tensor(0.0802, grad_fn=<NllLossBackward>)"
            ]
          },
          "metadata": {
            "tags": []
          },
          "execution_count": 25
        }
      ]
    },
    {
      "metadata": {
        "id": "0_MZ-kMCu_yM",
        "colab_type": "text"
      },
      "cell_type": "markdown",
      "source": [
        "## Refactor using nn.Linear"
      ]
    },
    {
      "metadata": {
        "id": "NrM2n5aVu_yN",
        "colab_type": "text"
      },
      "cell_type": "markdown",
      "source": [
        "We continue to refactor our code.  Instead of manually defining and initializing `self.weights` and `self.bias`, and calculating `xb  @ self.weights + self.bias`, we will instead use the Pytorch class [nn.Linear](https://pytorch.org/docs/stable/nn.html#linear-layers) for a linear layer, which does all that for us. Pytorch has many types of predefined layers that can greatly simplify our code, and often makes it faster too."
      ]
    },
    {
      "metadata": {
        "id": "4Z-mX-mCu_yO",
        "colab_type": "code",
        "colab": {}
      },
      "cell_type": "code",
      "source": [
        "class Mnist_Logistic(nn.Module):\n",
        "    def __init__(self):\n",
        "        super().__init__()\n",
        "        self.lin = nn.Linear(784,10)\n",
        "\n",
        "    def forward(self, xb): return self.lin(xb)"
      ],
      "execution_count": 0,
      "outputs": []
    },
    {
      "metadata": {
        "id": "3mXcAccmu_yQ",
        "colab_type": "text"
      },
      "cell_type": "markdown",
      "source": [
        "We instantiate our model and calculate the loss in the same way as before:"
      ]
    },
    {
      "metadata": {
        "id": "L9Go4C9uu_yR",
        "colab_type": "code",
        "outputId": "2f414daf-72a2-4248-cfb3-9bb97959a51c",
        "colab": {
          "base_uri": "https://localhost:8080/",
          "height": 34
        }
      },
      "cell_type": "code",
      "source": [
        "model = Mnist_Logistic()\n",
        "loss_func(model(xb), yb)"
      ],
      "execution_count": 0,
      "outputs": [
        {
          "output_type": "execute_result",
          "data": {
            "text/plain": [
              "tensor(2.2900, grad_fn=<NllLossBackward>)"
            ]
          },
          "metadata": {
            "tags": []
          },
          "execution_count": 27
        }
      ]
    },
    {
      "metadata": {
        "id": "lYTVNaO9u_yV",
        "colab_type": "text"
      },
      "cell_type": "markdown",
      "source": [
        "We are still able to use our same `fit` method as before."
      ]
    },
    {
      "metadata": {
        "id": "8bwLWMdFu_yW",
        "colab_type": "code",
        "colab": {}
      },
      "cell_type": "code",
      "source": [
        "fit()"
      ],
      "execution_count": 0,
      "outputs": []
    },
    {
      "metadata": {
        "id": "HEpeFxkqu_yc",
        "colab_type": "code",
        "outputId": "92edb99b-9d5d-4e44-ab4d-9203cf9c7f7d",
        "colab": {
          "base_uri": "https://localhost:8080/",
          "height": 34
        }
      },
      "cell_type": "code",
      "source": [
        "loss_func(model(xb), yb)"
      ],
      "execution_count": 0,
      "outputs": [
        {
          "output_type": "execute_result",
          "data": {
            "text/plain": [
              "tensor(0.0822, grad_fn=<NllLossBackward>)"
            ]
          },
          "metadata": {
            "tags": []
          },
          "execution_count": 29
        }
      ]
    },
    {
      "metadata": {
        "id": "OAAn-UUIu_yh",
        "colab_type": "text"
      },
      "cell_type": "markdown",
      "source": [
        "## Refactor using optim"
      ]
    },
    {
      "metadata": {
        "id": "CWFg-7M-u_yj",
        "colab_type": "text"
      },
      "cell_type": "markdown",
      "source": [
        "Pytorch also has a package with various optimization algorithms, `torch.optim`. We can use the `step` method from our optimizer to take a forward step, instead of manually updating each parameter.\n",
        "\n",
        "This will let us replace our previous manually coded optimization step:\n",
        "\n",
        "```python\n",
        "with torch.no_grad():\n",
        "    for p in model.parameters(): p -= p.grad * lr\n",
        "    model.zero_grad()\n",
        "```\n",
        "\n",
        "and instead use just:\n",
        "\n",
        "```python\n",
        "opt.step()\n",
        "opt.zero_grad()\n",
        "```\n",
        "\n",
        "(`optim.zero_grad()` resets the gradient to 0 and we need to call it before computing the gradient for the next minibatch.)"
      ]
    },
    {
      "metadata": {
        "id": "XQvp0JT8u_ym",
        "colab_type": "code",
        "colab": {}
      },
      "cell_type": "code",
      "source": [
        "from torch import optim"
      ],
      "execution_count": 0,
      "outputs": []
    },
    {
      "metadata": {
        "id": "IsnYQpPRu_yp",
        "colab_type": "text"
      },
      "cell_type": "markdown",
      "source": [
        "We'll define a little function to create our model and optimizer so we can reuse it in the future."
      ]
    },
    {
      "metadata": {
        "id": "m_jWpaKru_ys",
        "colab_type": "code",
        "colab": {}
      },
      "cell_type": "code",
      "source": [
        "def get_model():\n",
        "    model = Mnist_Logistic()\n",
        "    return model, optim.SGD(model.parameters(), lr=lr)"
      ],
      "execution_count": 0,
      "outputs": []
    },
    {
      "metadata": {
        "id": "U8j852_su_yw",
        "colab_type": "code",
        "outputId": "b038bfe8-1f05-4a8e-ac3c-c64eb9d1d6c7",
        "colab": {
          "base_uri": "https://localhost:8080/",
          "height": 34
        }
      },
      "cell_type": "code",
      "source": [
        "model,opt = get_model()\n",
        "loss_func(model(xb), yb)"
      ],
      "execution_count": 0,
      "outputs": [
        {
          "output_type": "execute_result",
          "data": {
            "text/plain": [
              "tensor(2.3607, grad_fn=<NllLossBackward>)"
            ]
          },
          "metadata": {
            "tags": []
          },
          "execution_count": 33
        }
      ]
    },
    {
      "metadata": {
        "id": "gW2PQtasu_y0",
        "colab_type": "code",
        "colab": {}
      },
      "cell_type": "code",
      "source": [
        "for epoch in range(epochs):\n",
        "    for i in range((n-1)//bs + 1):\n",
        "        start_i = i*bs\n",
        "        end_i = start_i+bs\n",
        "        xb = x_train[start_i:end_i]\n",
        "        yb = y_train[start_i:end_i]\n",
        "        pred = model(xb)\n",
        "        loss = loss_func(pred, yb)\n",
        "\n",
        "        loss.backward()\n",
        "        opt.step()\n",
        "        opt.zero_grad()"
      ],
      "execution_count": 0,
      "outputs": []
    },
    {
      "metadata": {
        "id": "THto8qHiu_y8",
        "colab_type": "code",
        "outputId": "b57859df-80c0-4197-9e7a-4017aa4ab8cc",
        "colab": {
          "base_uri": "https://localhost:8080/",
          "height": 34
        }
      },
      "cell_type": "code",
      "source": [
        "loss_func(model(xb), yb)"
      ],
      "execution_count": 0,
      "outputs": [
        {
          "output_type": "execute_result",
          "data": {
            "text/plain": [
              "tensor(0.0804, grad_fn=<NllLossBackward>)"
            ]
          },
          "metadata": {
            "tags": []
          },
          "execution_count": 35
        }
      ]
    },
    {
      "metadata": {
        "id": "VYELdkPfu_zA",
        "colab_type": "text"
      },
      "cell_type": "markdown",
      "source": [
        "## Refactor using Dataset"
      ]
    },
    {
      "metadata": {
        "id": "4lewr1v3u_zB",
        "colab_type": "text"
      },
      "cell_type": "markdown",
      "source": [
        "PyTorch has an abstract Dataset class.  A Dataset can be anything that has a `__len__` function (called by Python's standard `len` function) and a `__getitem__` function as a way of indexing into it. [This tutorial](https://pytorch.org/tutorials/beginner/data_loading_tutorial.html) walks through a nice example of creating a custom FacialLandmarkDataset class as a subclass of Dataset. \n",
        "\n",
        "PyTorch's [TensorDataset](https://pytorch.org/docs/stable/_modules/torch/utils/data/dataset.html#TensorDataset) is a Dataset wrapping tensors. By defining a length and way of indexing, this also gives us a way to iterate, index, and slice along the first dimension of a tensor. This will make it easier to access both the independent and dependent variables in the same line as we train."
      ]
    },
    {
      "metadata": {
        "id": "rvO-gMn1u_zC",
        "colab_type": "code",
        "colab": {}
      },
      "cell_type": "code",
      "source": [
        "from torch.utils.data import TensorDataset"
      ],
      "execution_count": 0,
      "outputs": []
    },
    {
      "metadata": {
        "id": "oQBQDQMNu_zG",
        "colab_type": "text"
      },
      "cell_type": "markdown",
      "source": [
        "Both `x_train` and `y_train` can be combined in a single TensorDataset, which will be easier to iterate over and slice."
      ]
    },
    {
      "metadata": {
        "id": "5hlYcjtEu_zH",
        "colab_type": "code",
        "colab": {}
      },
      "cell_type": "code",
      "source": [
        "train_ds = TensorDataset(x_train, y_train)"
      ],
      "execution_count": 0,
      "outputs": []
    },
    {
      "metadata": {
        "id": "boI-1F5su_zL",
        "colab_type": "text"
      },
      "cell_type": "markdown",
      "source": [
        "Previously, we had to iterate through minibatches of x and y values separately:\n",
        "\n",
        "```python\n",
        "    xb = x_train[start_i:end_i]\n",
        "    yb = y_train[start_i:end_i]\n",
        "```\n",
        "\n",
        "Now, we can do these two steps together:\n",
        "\n",
        "```python\n",
        "    xb,yb = train_ds[i*bs : i*bs+bs]\n",
        "```"
      ]
    },
    {
      "metadata": {
        "id": "WdwlqsRCu_zN",
        "colab_type": "code",
        "colab": {}
      },
      "cell_type": "code",
      "source": [
        "model,opt = get_model()"
      ],
      "execution_count": 0,
      "outputs": []
    },
    {
      "metadata": {
        "id": "E_trhrwau_zQ",
        "colab_type": "code",
        "colab": {}
      },
      "cell_type": "code",
      "source": [
        "for epoch in range(epochs):\n",
        "    for i in range((n-1)//bs + 1):\n",
        "        xb,yb = train_ds[i*bs : i*bs+bs]\n",
        "        pred = model(xb)\n",
        "        loss = loss_func(pred, yb)\n",
        "\n",
        "        loss.backward()\n",
        "        opt.step()\n",
        "        opt.zero_grad()"
      ],
      "execution_count": 0,
      "outputs": []
    },
    {
      "metadata": {
        "id": "pzqL-yAeu_zT",
        "colab_type": "code",
        "outputId": "ac32bd37-ff5e-41c4-b07e-bac94ccab23b",
        "colab": {
          "base_uri": "https://localhost:8080/",
          "height": 34
        }
      },
      "cell_type": "code",
      "source": [
        "loss_func(model(xb), yb)"
      ],
      "execution_count": 0,
      "outputs": [
        {
          "output_type": "execute_result",
          "data": {
            "text/plain": [
              "tensor(0.0816, grad_fn=<NllLossBackward>)"
            ]
          },
          "metadata": {
            "tags": []
          },
          "execution_count": 41
        }
      ]
    },
    {
      "metadata": {
        "id": "ruiMYhZDu_ze",
        "colab_type": "text"
      },
      "cell_type": "markdown",
      "source": [
        "## Refactor using DataLoader"
      ]
    },
    {
      "metadata": {
        "id": "-6EhXI0Lu_ze",
        "colab_type": "text"
      },
      "cell_type": "markdown",
      "source": [
        "Pytorch's `DataLoader` is responsible for managing batches. You can create a `DataLoader` from any `Dataset`. `DataLoader` makes it easier to iterate over batches. Rather than having to use `train_ds[i*bs : i*bs+bs]`, the DataLoader gives us each minibatch automatically."
      ]
    },
    {
      "metadata": {
        "id": "vy0lHnpFu_zf",
        "colab_type": "code",
        "colab": {}
      },
      "cell_type": "code",
      "source": [
        "from torch.utils.data import DataLoader"
      ],
      "execution_count": 0,
      "outputs": []
    },
    {
      "metadata": {
        "id": "wdAQllGku_zm",
        "colab_type": "code",
        "colab": {}
      },
      "cell_type": "code",
      "source": [
        "train_ds = TensorDataset(x_train, y_train)\n",
        "train_dl = DataLoader(train_ds, batch_size=bs)"
      ],
      "execution_count": 0,
      "outputs": []
    },
    {
      "metadata": {
        "id": "_eTOjfM2u_zs",
        "colab_type": "text"
      },
      "cell_type": "markdown",
      "source": [
        "Previously, our loop iterated over batches (xb, yb) like this:\n",
        "\n",
        "```python\n",
        "for i in range((n-1)//bs + 1):\n",
        "    xb,yb = train_ds[i*bs : i*bs+bs]\n",
        "    pred = model(xb)\n",
        "```\n",
        "\n",
        "Now, our loop is much cleaner, as (xb, yb) are loaded automatically from the data loader:\n",
        "\n",
        "```python\n",
        "for xb,yb in train_dl:\n",
        "    pred = model(xb)\n",
        "```"
      ]
    },
    {
      "metadata": {
        "id": "OzJL4ev7u_zt",
        "colab_type": "code",
        "colab": {}
      },
      "cell_type": "code",
      "source": [
        "model,opt = get_model()"
      ],
      "execution_count": 0,
      "outputs": []
    },
    {
      "metadata": {
        "id": "yWlXVrNpu_zw",
        "colab_type": "code",
        "colab": {}
      },
      "cell_type": "code",
      "source": [
        "for epoch in range(epochs):\n",
        "    for xb,yb in train_dl:\n",
        "        pred = model(xb)\n",
        "        loss = loss_func(pred, yb)\n",
        "\n",
        "        loss.backward()\n",
        "        opt.step()\n",
        "        opt.zero_grad()"
      ],
      "execution_count": 0,
      "outputs": []
    },
    {
      "metadata": {
        "id": "F7LT_7Qau_z2",
        "colab_type": "code",
        "outputId": "62700eaa-e855-4130-e46d-c1051bf8e71d",
        "colab": {
          "base_uri": "https://localhost:8080/",
          "height": 34
        }
      },
      "cell_type": "code",
      "source": [
        "loss_func(model(xb), yb)"
      ],
      "execution_count": 0,
      "outputs": [
        {
          "output_type": "execute_result",
          "data": {
            "text/plain": [
              "tensor(0.0835, grad_fn=<NllLossBackward>)"
            ]
          },
          "metadata": {
            "tags": []
          },
          "execution_count": 46
        }
      ]
    },
    {
      "metadata": {
        "id": "1I1SFZGyu_z4",
        "colab_type": "text"
      },
      "cell_type": "markdown",
      "source": [
        "Thanks to Pytorch's `nn.Module`, `nn.Parameter`, `Dataset`, and `DataLoader`, our training loop is now dramatically smaller and easier to understand. Let's now try to add the basic features necessary to create effecive models in practice."
      ]
    },
    {
      "metadata": {
        "id": "0ZhmOw6Iu_z6",
        "colab_type": "text"
      },
      "cell_type": "markdown",
      "source": [
        "# Add validation"
      ]
    },
    {
      "metadata": {
        "id": "BS4kUh5Uu_z-",
        "colab_type": "text"
      },
      "cell_type": "markdown",
      "source": [
        "## First try"
      ]
    },
    {
      "metadata": {
        "id": "vWtrq6Ybu_0B",
        "colab_type": "text"
      },
      "cell_type": "markdown",
      "source": [
        "In section 1, we were just trying to get a reasonable training loop set up for use on our training data.  In reality, you **always** should also have a [validation set](http://www.fast.ai/2017/11/13/validation-sets/), in order to identify if you are overfitting.\n",
        "\n",
        "Shuffling the training data is [important](https://www.quora.com/Does-the-order-of-training-data-matter-when-training-neural-networks) to prevent correlation between batches and overfitting. On the other hand, the validation loss will be identical whether we shuffle the validation set or not. Since shuffling takes extra time, it makes no sense to shuffle the validation data.\n",
        "\n",
        "We'll use a batch size for the validation set that is twice as large as that for the training set. This is because the validation set does not need backpropagation and thus takes less memory (it doesn't need to store the gradients). We take advantage of this to use a larger batch size and compute the loss more quickly."
      ]
    },
    {
      "metadata": {
        "id": "EUes2xOiu_0C",
        "colab_type": "code",
        "colab": {}
      },
      "cell_type": "code",
      "source": [
        "train_ds = TensorDataset(x_train, y_train)\n",
        "train_dl = DataLoader(train_ds, batch_size=bs, shuffle=True)\n",
        "\n",
        "valid_ds = TensorDataset(x_valid, y_valid)\n",
        "valid_dl = DataLoader(valid_ds, batch_size=bs*2)"
      ],
      "execution_count": 0,
      "outputs": []
    },
    {
      "metadata": {
        "id": "lDADlySru_0F",
        "colab_type": "text"
      },
      "cell_type": "markdown",
      "source": [
        "We will calculate and print the validation loss at the end of each epoch.\n",
        "\n",
        "(Note that we always call `model.train()` before training, and `model.eval()` before inference, because these are used by layers such as `nn.BatchNorm2d` and `nn.Dropout` to ensure appropriate behaviour for these different phases.)"
      ]
    },
    {
      "metadata": {
        "id": "im9WYBQ3u_0F",
        "colab_type": "code",
        "colab": {}
      },
      "cell_type": "code",
      "source": [
        "model,opt = get_model()"
      ],
      "execution_count": 0,
      "outputs": []
    },
    {
      "metadata": {
        "id": "T6SWoTKfu_0I",
        "colab_type": "code",
        "outputId": "28a93a79-d351-4f06-a274-bfc1a8be19b5",
        "colab": {
          "base_uri": "https://localhost:8080/",
          "height": 51
        }
      },
      "cell_type": "code",
      "source": [
        "for epoch in range(epochs):\n",
        "    model.train()\n",
        "    for xb,yb in train_dl:\n",
        "        pred = model(xb)\n",
        "        loss = loss_func(pred, yb)\n",
        "\n",
        "        loss.backward()\n",
        "        opt.step()\n",
        "        opt.zero_grad()\n",
        "        \n",
        "    model.eval()\n",
        "    with torch.no_grad():\n",
        "        valid_loss = sum(loss_func(model(xb), yb)\n",
        "                         for xb,yb in valid_dl)\n",
        "\n",
        "    print(epoch, valid_loss/len(valid_dl))"
      ],
      "execution_count": 0,
      "outputs": [
        {
          "output_type": "stream",
          "text": [
            "0 tensor(0.2913)\n",
            "1 tensor(0.3155)\n"
          ],
          "name": "stdout"
        }
      ]
    },
    {
      "metadata": {
        "id": "nPYAnnJmu_0Q",
        "colab_type": "text"
      },
      "cell_type": "markdown",
      "source": [
        "## Create fit() and get_data()"
      ]
    },
    {
      "metadata": {
        "id": "g8oHgUd3u_0R",
        "colab_type": "text"
      },
      "cell_type": "markdown",
      "source": [
        "We'll now do a little refactoring of our own. Since we go through a similar process twice of calculating the loss for both the training set and the validation set, let's make that into its own function, \"`loss_batch`\", which computes the loss for one batch.\n",
        "\n",
        "We pass an optimizer in for the training set, and use it to perform backprop.  For the validation set, we don't pass an optimizer, so the method doesn't perform backprop."
      ]
    },
    {
      "metadata": {
        "id": "MGWtxc5bu_0T",
        "colab_type": "code",
        "colab": {}
      },
      "cell_type": "code",
      "source": [
        "def loss_batch(model, loss_func, xb, yb, opt=None):\n",
        "    loss = loss_func(model(xb), yb)\n",
        "\n",
        "    if opt is not None:\n",
        "        loss.backward()\n",
        "        opt.step()\n",
        "        opt.zero_grad()\n",
        "        \n",
        "    return loss.item(), len(xb)"
      ],
      "execution_count": 0,
      "outputs": []
    },
    {
      "metadata": {
        "id": "--NLc6z9u_0W",
        "colab_type": "text"
      },
      "cell_type": "markdown",
      "source": [
        "`fit` runs the necessary operations to train our model and compute the training and validation losses for each epoch."
      ]
    },
    {
      "metadata": {
        "id": "D_5iFv0Wu_0X",
        "colab_type": "code",
        "colab": {}
      },
      "cell_type": "code",
      "source": [
        "import numpy as np\n",
        "\n",
        "def fit(epochs, model, loss_func, opt, train_dl, valid_dl):\n",
        "    for epoch in range(epochs):\n",
        "        model.train()\n",
        "        for xb,yb in train_dl: loss_batch(model, loss_func, xb, yb, opt)\n",
        "\n",
        "        model.eval()\n",
        "        with torch.no_grad():\n",
        "            losses,nums = zip(*[loss_batch(model, loss_func, xb, yb)\n",
        "                                for xb,yb in valid_dl])\n",
        "        val_loss = np.sum(np.multiply(losses,nums)) / np.sum(nums)\n",
        "\n",
        "        print(epoch, val_loss)"
      ],
      "execution_count": 0,
      "outputs": []
    },
    {
      "metadata": {
        "id": "llaWTS_Mu_0c",
        "colab_type": "text"
      },
      "cell_type": "markdown",
      "source": [
        "`get_data` returns dataloaders for the training and validation sets."
      ]
    },
    {
      "metadata": {
        "id": "ApcTu7aqu_0e",
        "colab_type": "code",
        "colab": {}
      },
      "cell_type": "code",
      "source": [
        "def get_data(train_ds, valid_ds, bs):\n",
        "    return (DataLoader(train_ds, batch_size=bs, shuffle=True),\n",
        "            DataLoader(valid_ds, batch_size=bs*2))"
      ],
      "execution_count": 0,
      "outputs": []
    },
    {
      "metadata": {
        "id": "23TzBabhu_0h",
        "colab_type": "text"
      },
      "cell_type": "markdown",
      "source": [
        "Now, our whole process of obtaining the data loaders and fitting the model can be run in 3 lines of code:"
      ]
    },
    {
      "metadata": {
        "id": "29OEKY0au_0h",
        "colab_type": "code",
        "outputId": "73908de5-93f5-4d92-80e3-9c0314aab63d",
        "colab": {
          "base_uri": "https://localhost:8080/",
          "height": 51
        }
      },
      "cell_type": "code",
      "source": [
        "train_dl,valid_dl = get_data(train_ds, valid_ds, bs)\n",
        "model,opt = get_model()\n",
        "fit(epochs, model, loss_func, opt, train_dl, valid_dl)"
      ],
      "execution_count": 0,
      "outputs": [
        {
          "output_type": "stream",
          "text": [
            "0 0.3702785511493683\n",
            "1 0.3305322093963623\n"
          ],
          "name": "stdout"
        }
      ]
    },
    {
      "metadata": {
        "id": "PXp9h6k8u_0j",
        "colab_type": "text"
      },
      "cell_type": "markdown",
      "source": [
        "You can use these basic 3 lines of code to train a wide variety of models. Let's see if we can use them to train a convolutional neural network (CNN)!"
      ]
    },
    {
      "metadata": {
        "id": "ZP1_NEmtu_0k",
        "colab_type": "text"
      },
      "cell_type": "markdown",
      "source": [
        "# Switch to CNN"
      ]
    },
    {
      "metadata": {
        "id": "9XaVpk27u_0m",
        "colab_type": "text"
      },
      "cell_type": "markdown",
      "source": [
        "## First try"
      ]
    },
    {
      "metadata": {
        "id": "I1ZceHAHu_0q",
        "colab_type": "text"
      },
      "cell_type": "markdown",
      "source": [
        "We are now going to build our neural network with three convolutional layers. Because none of the functions in the previous section assume anything about the model form, we'll be able to use them to train a CNN without any modification.\n",
        "\n",
        "We will use Pytorch's predefined [Conv2d](https://pytorch.org/docs/stable/nn.html#torch.nn.Conv2d) class as our convolutional layer. We define a CNN with 3 convolutional layers. Each convolution is followed by a ReLU.  At the end, we perform an average pooling.  (Note that `view` is PyTorch's version of numpy's `reshape`)"
      ]
    },
    {
      "metadata": {
        "id": "zuuKttXku_0s",
        "colab_type": "code",
        "colab": {}
      },
      "cell_type": "code",
      "source": [
        "class Mnist_CNN(nn.Module):\n",
        "    def __init__(self):\n",
        "        super().__init__()\n",
        "        self.conv1 = nn.Conv2d(1,  16, kernel_size=3, stride=2, padding=1)\n",
        "        self.conv2 = nn.Conv2d(16, 16, kernel_size=3, stride=2, padding=1)\n",
        "        self.conv3 = nn.Conv2d(16, 10, kernel_size=3, stride=2, padding=1)\n",
        "\n",
        "    def forward(self, xb):\n",
        "        xb = xb.view(-1,1,28,28)\n",
        "        xb = F.relu(self.conv1(xb))\n",
        "        xb = F.relu(self.conv2(xb))\n",
        "        xb = F.relu(self.conv3(xb))\n",
        "        xb = F.avg_pool2d(xb, 4)\n",
        "        return xb.view(-1,xb.size(1))"
      ],
      "execution_count": 0,
      "outputs": []
    },
    {
      "metadata": {
        "id": "yuoAThwCu_0v",
        "colab_type": "code",
        "colab": {}
      },
      "cell_type": "code",
      "source": [
        "lr=0.1"
      ],
      "execution_count": 0,
      "outputs": []
    },
    {
      "metadata": {
        "id": "Z9NwMHnnu_0y",
        "colab_type": "text"
      },
      "cell_type": "markdown",
      "source": [
        "[Momentum](http://cs231n.github.io/neural-networks-3/#sgd) is a variation on stochastic gradient descent that takes previous updates into account as well and generally leads to faster training."
      ]
    },
    {
      "metadata": {
        "id": "pOLysf6yu_0z",
        "colab_type": "code",
        "colab": {}
      },
      "cell_type": "code",
      "source": [
        "model = Mnist_CNN()\n",
        "opt = optim.SGD(model.parameters(), lr=lr, momentum=0.9)"
      ],
      "execution_count": 0,
      "outputs": []
    },
    {
      "metadata": {
        "id": "D31XRDGqu_0_",
        "colab_type": "code",
        "outputId": "8e2f233a-5599-4c6c-9850-7da970eb8b3a",
        "colab": {
          "base_uri": "https://localhost:8080/",
          "height": 54
        }
      },
      "cell_type": "code",
      "source": [
        "fit(epochs, model, loss_func, opt, train_dl, valid_dl)"
      ],
      "execution_count": 0,
      "outputs": [
        {
          "output_type": "stream",
          "text": [
            "0 0.40716314940452575\n",
            "1 0.23257571048736572\n"
          ],
          "name": "stdout"
        }
      ]
    },
    {
      "metadata": {
        "id": "YaeNyCupu_1C",
        "colab_type": "text"
      },
      "cell_type": "markdown",
      "source": [
        "## nn.Sequential"
      ]
    },
    {
      "metadata": {
        "id": "m9ekVPmBu_1D",
        "colab_type": "text"
      },
      "cell_type": "markdown",
      "source": [
        "`torch.nn` has another handy class we can use to simply our code: [`Sequential`](https://pytorch.org/docs/stable/nn.html#torch.nn.Sequential). A `Sequential` object runs each of the modules contained within it, in a sequential manner. This is a simpler way of writing our neural network. \n",
        "\n",
        "To take advantage of this, we need to be able to easily define a **custom layer** from a given function.  For instance, PyTorch doesn't have a `view` layer, and we need to create one for our network. `Lambda` will create a layer that we can then use when defining a network with `Sequential`."
      ]
    },
    {
      "metadata": {
        "id": "QhzLgOjZu_1E",
        "colab_type": "code",
        "colab": {}
      },
      "cell_type": "code",
      "source": [
        "class Lambda(nn.Module):\n",
        "    def __init__(self, func):\n",
        "        super().__init__()\n",
        "        self.func=func\n",
        "        \n",
        "    def forward(self, x): return self.func(x)"
      ],
      "execution_count": 0,
      "outputs": []
    },
    {
      "metadata": {
        "id": "8yDMFDwiu_1I",
        "colab_type": "code",
        "colab": {}
      },
      "cell_type": "code",
      "source": [
        "def preprocess(x): return x.view(-1,1,28,28)"
      ],
      "execution_count": 0,
      "outputs": []
    },
    {
      "metadata": {
        "id": "EcXsa_Seu_1K",
        "colab_type": "text"
      },
      "cell_type": "markdown",
      "source": [
        "The model created with `Sequential` is simply:"
      ]
    },
    {
      "metadata": {
        "id": "U4ukB-Dgu_1N",
        "colab_type": "code",
        "colab": {}
      },
      "cell_type": "code",
      "source": [
        "model = nn.Sequential(\n",
        "    Lambda(preprocess),\n",
        "    nn.Conv2d(1,  16, kernel_size=3, stride=2, padding=1), nn.ReLU(),\n",
        "    nn.Conv2d(16, 16, kernel_size=3, stride=2, padding=1), nn.ReLU(),\n",
        "    nn.Conv2d(16, 10, kernel_size=3, stride=2, padding=1), nn.ReLU(),\n",
        "    nn.AvgPool2d(4),\n",
        "    Lambda(lambda x: x.view(x.size(0),-1))\n",
        ")"
      ],
      "execution_count": 0,
      "outputs": []
    },
    {
      "metadata": {
        "id": "mbbS6KC7u_1R",
        "colab_type": "code",
        "colab": {}
      },
      "cell_type": "code",
      "source": [
        "opt = optim.SGD(model.parameters(), lr=lr, momentum=0.9)"
      ],
      "execution_count": 0,
      "outputs": []
    },
    {
      "metadata": {
        "id": "v9PfMeOHu_1T",
        "colab_type": "code",
        "outputId": "67879f97-4086-4a2f-a239-748ea901c977",
        "colab": {
          "base_uri": "https://localhost:8080/",
          "height": 54
        }
      },
      "cell_type": "code",
      "source": [
        "fit(epochs, model, loss_func, opt, train_dl, valid_dl)"
      ],
      "execution_count": 0,
      "outputs": [
        {
          "output_type": "stream",
          "text": [
            "0 0.38849057145118715\n",
            "1 0.30112580842971803\n"
          ],
          "name": "stdout"
        }
      ]
    },
    {
      "metadata": {
        "id": "rawRN_Udu_1W",
        "colab_type": "text"
      },
      "cell_type": "markdown",
      "source": [
        "## Wrapping `DataLoader`"
      ]
    },
    {
      "metadata": {
        "id": "pdYn4W8Ju_1Y",
        "colab_type": "text"
      },
      "cell_type": "markdown",
      "source": [
        "Our CNN is fairly concise, but it only works with MNIST, because:\n",
        "- It assumes the input is a 28\\*28 long vector\n",
        "- It assumes that the final CNN grid size is 4\\*4 (since that's the average pooling kernel size we used)\n",
        "\n",
        "Let's get rid of these two assumptions, so our model works with any 2d single channel image. First, we can remove the initial Lambda layer but moving the data preprocessing into a generator:"
      ]
    },
    {
      "metadata": {
        "id": "NUfcllBCIxOt",
        "colab_type": "text"
      },
      "cell_type": "markdown",
      "source": [
        "**When to use yield instead of return in Python?**\n",
        "\n",
        "The **yield** statement suspends function’s execution and sends a value back to caller, but retains enough state to enable function to resume where it is left off. When resumed, the function continues execution immediately after the last yield run. This allows its code to produce a series of values over time, rather them computing them at once and sending them back like a list.\n",
        "\n",
        "Return sends a specified value back to its caller whereas **Yield** can produce a sequence of values. We should use yield when we want to iterate over a sequence, but don’t want to store the entire sequence in memory.\n",
        "\n",
        "**Yield** are used in Python **generators**. A generator function is defined like a normal function, but whenever it needs to generate a value, it does so with the yield keyword rather than return. If the body of a def contains yield, the function automatically becomes a generator function."
      ]
    },
    {
      "metadata": {
        "id": "NiyQ83AjUDPm",
        "colab_type": "text"
      },
      "cell_type": "markdown",
      "source": [
        "\n",
        "**Iterators in Python**\n",
        "\n",
        "Iterator in python is any python type that can be used with a ‘for in loop’. Python lists, tuples, dicts and sets are all examples of inbuilt iterators. These types are iterators because they implement following methods. In fact, any object that wants to be an iterator must implement following methods.\n",
        "\n",
        "    __iter__ method that is called on initialization of an iterator. This should return an object that has a next or __next__ (in Python 3) method.\n",
        "    next ( __next__ in Python 3) The iterator next method should return the next value for the iterable. When an iterator is used with a ‘for in’ loop, the for loop implicitly calls next() on the iterator object. This method should raise a StopIteration to signal the end of the iteration.\n"
      ]
    },
    {
      "metadata": {
        "id": "tbrLUqa-u_1Z",
        "colab_type": "code",
        "colab": {}
      },
      "cell_type": "code",
      "source": [
        "def preprocess(x,y): return x.view(-1,1,28,28),y"
      ],
      "execution_count": 0,
      "outputs": []
    },
    {
      "metadata": {
        "id": "jNdfDUGlu_1r",
        "colab_type": "code",
        "colab": {}
      },
      "cell_type": "code",
      "source": [
        "class WrappedDataLoader():\n",
        "    def __init__(self, dl, func):\n",
        "        self.dl = dl\n",
        "        self.func = func\n",
        "        \n",
        "    def __len__(self): return len(self.dl)\n",
        "    \n",
        "    def __iter__(self):\n",
        "        batches = iter(self.dl)\n",
        "        for b in batches: yield(self.func(*b))"
      ],
      "execution_count": 0,
      "outputs": []
    },
    {
      "metadata": {
        "id": "Zx6WtMmku_1v",
        "colab_type": "code",
        "colab": {}
      },
      "cell_type": "code",
      "source": [
        "train_dl,valid_dl = get_data(train_ds, valid_ds, bs)\n",
        "train_dl = WrappedDataLoader(train_dl, preprocess)\n",
        "valid_dl = WrappedDataLoader(valid_dl, preprocess)"
      ],
      "execution_count": 0,
      "outputs": []
    },
    {
      "metadata": {
        "id": "gekE9qmXu_1x",
        "colab_type": "text"
      },
      "cell_type": "markdown",
      "source": [
        "Next, we can replace `nn.AvgPool2d` with `nn.AdaptiveAvgPool2d`, which allows us to define the size of the *output* tensor we want, rather than the *input* tensor we have. As a result, our model will work with any size input."
      ]
    },
    {
      "metadata": {
        "id": "6xctd8cIu_1y",
        "colab_type": "code",
        "colab": {}
      },
      "cell_type": "code",
      "source": [
        "model = nn.Sequential(\n",
        "    nn.Conv2d(1,  16, kernel_size=3, stride=2, padding=1), nn.ReLU(),\n",
        "    nn.Conv2d(16, 16, kernel_size=3, stride=2, padding=1), nn.ReLU(),\n",
        "    nn.Conv2d(16, 10, kernel_size=3, stride=2, padding=1), nn.ReLU(),\n",
        "    nn.AdaptiveAvgPool2d(1),\n",
        "    Lambda(lambda x: x.view(x.size(0),-1))\n",
        ")\n",
        "\n",
        "opt = optim.SGD(model.parameters(), lr=lr, momentum=0.9)"
      ],
      "execution_count": 0,
      "outputs": []
    },
    {
      "metadata": {
        "id": "TXfq_kyqu_11",
        "colab_type": "text"
      },
      "cell_type": "markdown",
      "source": [
        "Let's try it out:"
      ]
    },
    {
      "metadata": {
        "id": "fiMVoG2ju_12",
        "colab_type": "code",
        "outputId": "e8de920e-2969-43f6-be7a-4bc1e27c6898",
        "colab": {
          "base_uri": "https://localhost:8080/",
          "height": 54
        }
      },
      "cell_type": "code",
      "source": [
        "fit(epochs, model, loss_func, opt, train_dl, valid_dl)"
      ],
      "execution_count": 0,
      "outputs": [
        {
          "output_type": "stream",
          "text": [
            "0 0.40953605432510376\n",
            "1 0.24604078388214112\n"
          ],
          "name": "stdout"
        }
      ]
    },
    {
      "metadata": {
        "id": "DU8bllNeu_14",
        "colab_type": "text"
      },
      "cell_type": "markdown",
      "source": [
        "## Using your GPU"
      ]
    },
    {
      "metadata": {
        "id": "ZeincA6pu_15",
        "colab_type": "text"
      },
      "cell_type": "markdown",
      "source": [
        "If you're lucky enough to have access to a CUDA-capable GPU (you can rent one for about about $0.50/hour from most cloud providers) you can use it to speed up your code. First check that your GPU is working in Pytorch:"
      ]
    },
    {
      "metadata": {
        "id": "OumjT4tdu_16",
        "colab_type": "code",
        "outputId": "ff90f09c-fb1d-4bf3-8812-eafb26e6a749",
        "colab": {
          "base_uri": "https://localhost:8080/",
          "height": 35
        }
      },
      "cell_type": "code",
      "source": [
        "torch.cuda.is_available()"
      ],
      "execution_count": 0,
      "outputs": [
        {
          "output_type": "execute_result",
          "data": {
            "text/plain": [
              "True"
            ]
          },
          "metadata": {
            "tags": []
          },
          "execution_count": 66
        }
      ]
    },
    {
      "metadata": {
        "id": "_nuEjfkEu_18",
        "colab_type": "text"
      },
      "cell_type": "markdown",
      "source": [
        "And then create a device object for it:"
      ]
    },
    {
      "metadata": {
        "id": "fdo9WlZ1u_18",
        "colab_type": "code",
        "colab": {}
      },
      "cell_type": "code",
      "source": [
        "dev = torch.device('cuda') if torch.cuda.is_available() else torch.device('cpu')"
      ],
      "execution_count": 0,
      "outputs": []
    },
    {
      "metadata": {
        "id": "9mBCd0Awu_1_",
        "colab_type": "text"
      },
      "cell_type": "markdown",
      "source": [
        "Let's update `preprocess` to move batches to the GPU:"
      ]
    },
    {
      "metadata": {
        "id": "2NQJesVHu_2B",
        "colab_type": "code",
        "colab": {}
      },
      "cell_type": "code",
      "source": [
        "def preprocess(x,y): return x.view(-1,1,28,28).to(dev),y.to(dev)\n",
        "\n",
        "train_dl,valid_dl = get_data(train_ds, valid_ds, bs)\n",
        "train_dl = WrappedDataLoader(train_dl, preprocess)\n",
        "valid_dl = WrappedDataLoader(valid_dl, preprocess)"
      ],
      "execution_count": 0,
      "outputs": []
    },
    {
      "metadata": {
        "id": "yLZQNGNCu_2C",
        "colab_type": "text"
      },
      "cell_type": "markdown",
      "source": [
        "Finally, we can move our model to the GPU."
      ]
    },
    {
      "metadata": {
        "id": "8cuyYDW7u_2D",
        "colab_type": "code",
        "colab": {}
      },
      "cell_type": "code",
      "source": [
        "model.to(dev);\n",
        "opt = optim.SGD(model.parameters(), lr=lr, momentum=0.9)"
      ],
      "execution_count": 0,
      "outputs": []
    },
    {
      "metadata": {
        "id": "2PF144VEu_2F",
        "colab_type": "text"
      },
      "cell_type": "markdown",
      "source": [
        "You should find it runs faster now:"
      ]
    },
    {
      "metadata": {
        "id": "GI9Jgb02u_2F",
        "colab_type": "code",
        "outputId": "e8cf7ead-02ff-4453-9ddd-41397082ce05",
        "colab": {
          "base_uri": "https://localhost:8080/",
          "height": 54
        }
      },
      "cell_type": "code",
      "source": [
        "fit(epochs, model, loss_func, opt, train_dl, valid_dl)"
      ],
      "execution_count": 0,
      "outputs": [
        {
          "output_type": "stream",
          "text": [
            "0 0.21110360975265502\n",
            "1 0.18271471920013427\n"
          ],
          "name": "stdout"
        }
      ]
    },
    {
      "metadata": {
        "id": "Eoi8NG1gu_2I",
        "colab_type": "text"
      },
      "cell_type": "markdown",
      "source": [
        "# Closing thoughts"
      ]
    },
    {
      "metadata": {
        "id": "6Ild7Xotu_2J",
        "colab_type": "text"
      },
      "cell_type": "markdown",
      "source": [
        "We now have general data pipeline and training loop which you can use for training many types of models using Pytorch. To see how simple training a model can now be, take a look at the `mnist_sample` sample notebook.\n",
        "\n",
        "Of course, there are many things you'll want to add, such as data augmentation, hyperparameter tuning, monitoring training, transfer learning, and so forth. These features are available in the fastai library, which has been developed using the same design approach shown in this tutorial, providing a natural next step for practitioners looking to take their models further."
      ]
    },
    {
      "metadata": {
        "id": "qtC36cIqu_2K",
        "colab_type": "text"
      },
      "cell_type": "markdown",
      "source": [
        "We promised at the start of this tutorial we'd explain through example each of `torch.nn`, `torch.optim`, `Dataset`, and `DataLoader`. So let's summarize what we've seen:\n",
        "\n",
        "- `torch.nn`\n",
        "  - `Module`: creates a callable which behaves like a function, but can also contain state (such as neural net layer weights). It knows what `Parameter`s it contains and can zero all their gradients, loop through them for weight updates, etc.\n",
        "  - `Parameter`: a wrapper for a tensor that tells a `Module` that it has weights that need updating during backprop. Only tensors with the `requires_grad` attribute set are updated\n",
        "  - `functional`: a module (usually imported into the `F` namespace by convention) which contains activation functions, loss functions, etc, as well as non-stateful versions of layers such as convolutional and linear layers.\n",
        "- `torch.optim`: Contains optimizers such as `SGD`, which update the weights of `Parameter`s during the backward step\n",
        "- `Dataset`: An abstract interface of objects with a `__len__` and a `__getitem__`, including classes provided with Pytorch such as `TensorDataset`\n",
        "- `DataLoader`: Takes any `Dataset` and creates an iterator which returns batches of data."
      ]
    },
    {
      "metadata": {
        "id": "K9TIwkkmu_2L",
        "colab_type": "code",
        "colab": {}
      },
      "cell_type": "code",
      "source": [
        ""
      ],
      "execution_count": 0,
      "outputs": []
    }
  ]
}