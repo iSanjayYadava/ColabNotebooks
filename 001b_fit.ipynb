{
  "nbformat": 4,
  "nbformat_minor": 0,
  "metadata": {
    "colab": {
      "name": "001b_fit.ipynb",
      "version": "0.3.2",
      "provenance": [],
      "collapsed_sections": [
        "SFB7o84xw40m",
        "xZGbHLoww42a",
        "byydzMKTw43l",
        "fPRP76yNw439",
        "81aFX28Rw44q"
      ],
      "include_colab_link": true
    },
    "kernelspec": {
      "name": "python3",
      "display_name": "Python 3"
    },
    "accelerator": "GPU"
  },
  "cells": [
    {
      "cell_type": "markdown",
      "metadata": {
        "id": "view-in-github",
        "colab_type": "text"
      },
      "source": [
        "<a href=\"https://colab.research.google.com/github/iSanjayYadava/ColabNotebooks/blob/master/001b_fit.ipynb\" target=\"_parent\"><img src=\"https://colab.research.google.com/assets/colab-badge.svg\" alt=\"Open In Colab\"/></a>"
      ]
    },
    {
      "metadata": {
        "id": "iEAAQETcw4yG",
        "colab_type": "text"
      },
      "cell_type": "markdown",
      "source": [
        "# A basic training loop"
      ]
    },
    {
      "metadata": {
        "id": "A0RfvZuxw4yO",
        "colab_type": "text"
      },
      "cell_type": "markdown",
      "source": [
        "This notebook builds upon the work of the [previous notebook](001a_nn_basics.ipynb) in which we created a simple training loop (including calculating the loss on a validation set) and then a 3-layer CNN using PyTorch's Sequential class.\n",
        "\n",
        "Here, we will"
      ]
    },
    {
      "metadata": {
        "id": "Y4Qeo1KFw4yS",
        "colab_type": "text"
      },
      "cell_type": "markdown",
      "source": [
        "## From the last notebook..."
      ]
    },
    {
      "metadata": {
        "id": "w6dt6Yrxw4ya",
        "colab_type": "code",
        "colab": {}
      },
      "cell_type": "code",
      "source": [
        "#export\n",
        "import pickle, gzip, torch, math, numpy as np, torch.nn.functional as F\n",
        "from pathlib import Path\n",
        "from IPython.core.debugger import set_trace\n",
        "from dataclasses import dataclass\n",
        "from typing import Any, Collection, Callable, NewType, List, Union, TypeVar, Optional\n",
        "from functools import partial, reduce\n",
        "from numbers import Number\n",
        "\n",
        "from numpy import array\n",
        "from torch import nn, optim, tensor, Tensor\n",
        "from torch.utils.data import TensorDataset, Dataset, DataLoader"
      ],
      "execution_count": 0,
      "outputs": []
    },
    {
      "metadata": {
        "id": "ndx-VKy1XK_Q",
        "colab_type": "text"
      },
      "cell_type": "markdown",
      "source": [
        "## **Steps to mount Google Drive **"
      ]
    },
    {
      "metadata": {
        "id": "3plOJLMhXROQ",
        "colab_type": "code",
        "colab": {}
      },
      "cell_type": "code",
      "source": [
        "!apt-get install -y -qq software-properties-common python-software-properties module-init-tools\n",
        "!add-apt-repository -y ppa:alessandro-strada/ppa 2>&1 > /dev/null\n",
        "!apt-get update -qq 2>&1 > /dev/null\n",
        "!apt-get -y install -qq google-drive-ocamlfuse fuse\n",
        "from google.colab import auth\n",
        "auth.authenticate_user()\n",
        "from oauth2client.client import GoogleCredentials\n",
        "creds = GoogleCredentials.get_application_default()\n",
        "import getpass\n",
        "!google-drive-ocamlfuse -headless -id={creds.client_id} -secret={creds.client_secret} < /dev/null 2>&1 | grep URL\n",
        "vcode = getpass.getpass()\n",
        "!echo {vcode} | google-drive-ocamlfuse -headless -id={creds.client_id} -secret={creds.client_secret}"
      ],
      "execution_count": 0,
      "outputs": []
    },
    {
      "metadata": {
        "id": "XkwapEntgUp2",
        "colab_type": "code",
        "colab": {}
      },
      "cell_type": "code",
      "source": [
        ""
      ],
      "execution_count": 0,
      "outputs": []
    },
    {
      "metadata": {
        "id": "UttmqZHggWx_",
        "colab_type": "text"
      },
      "cell_type": "markdown",
      "source": [
        "## **Mount the google drive to your Colab session**\n",
        "\n",
        "**You can't permanently store a file on colab**. Though you can import files from your drive and everytime when you are done with file you can save it back.\n",
        "\n",
        "To mount the google drive to your Colab session"
      ]
    },
    {
      "metadata": {
        "id": "1UY4i7EUf_VO",
        "colab_type": "code",
        "colab": {
          "base_uri": "https://localhost:8080/",
          "height": 34
        },
        "outputId": "5315f151-a086-4b98-dbc7-710ce989351d"
      },
      "cell_type": "code",
      "source": [
        "from google.colab import drive\n",
        "drive.mount('/content/gdrive')"
      ],
      "execution_count": 34,
      "outputs": [
        {
          "output_type": "stream",
          "text": [
            "Drive already mounted at /content/gdrive; to attempt to forcibly remount, call drive.mount(\"/content/gdrive\", force_remount=True).\n"
          ],
          "name": "stdout"
        }
      ]
    },
    {
      "metadata": {
        "id": "WuLodNpbYGkp",
        "colab_type": "code",
        "colab": {}
      },
      "cell_type": "code",
      "source": [
        "from pathlib import Path\n",
        "import requests\n",
        "\n",
        "DATA_PATH = Path('/content/gdrive/My Drive/ColabNotebooks/data')\n",
        "PATH = DATA_PATH/'mnist'\n",
        "\n",
        "PATH.mkdir(parents=True, exist_ok=True)\n",
        "\n",
        "URL='http://deeplearning.net/data/mnist/'\n",
        "FILENAME='mnist.pkl.gz'\n",
        "\n",
        "if not (PATH/FILENAME).exists():\n",
        "    content = requests.get(URL+FILENAME).content\n",
        "    (PATH/FILENAME).open('wb').write(content)"
      ],
      "execution_count": 0,
      "outputs": []
    },
    {
      "metadata": {
        "id": "u9z-eyv9Yqh9",
        "colab_type": "code",
        "outputId": "bae348d4-e3f7-40e6-d674-3935006d027e",
        "colab": {
          "base_uri": "https://localhost:8080/",
          "height": 34
        }
      },
      "cell_type": "code",
      "source": [
        "!ls /content/gdrive/'My Drive/ColabNotebooks/data'"
      ],
      "execution_count": 36,
      "outputs": [
        {
          "output_type": "stream",
          "text": [
            "mnist\n"
          ],
          "name": "stdout"
        }
      ]
    },
    {
      "metadata": {
        "id": "9XWt0kLvw4yk",
        "colab_type": "text"
      },
      "cell_type": "markdown",
      "source": [
        "The data was downloaded in section 1.1 of the [previous notebook](001a_nn_basics.ipynb), so make sure you have run that code before you continue."
      ]
    },
    {
      "metadata": {
        "id": "oRh2Doy1w4yx",
        "colab_type": "code",
        "colab": {}
      },
      "cell_type": "code",
      "source": [
        "DATA_PATH = Path('/content/gdrive/My Drive/ColabNotebooks/data')\n",
        "PATH = DATA_PATH/'mnist'\n",
        "\n",
        "with gzip.open(PATH/'mnist.pkl.gz', 'rb') as f:\n",
        "    ((x_train, y_train), (x_valid, y_valid), _) = pickle.load(f, encoding='latin-1')\n",
        "\n",
        "x_train,y_train,x_valid,y_valid = map(tensor, (x_train,y_train,x_valid,y_valid))"
      ],
      "execution_count": 0,
      "outputs": []
    },
    {
      "metadata": {
        "id": "7QGGLsFrw4y8",
        "colab_type": "text"
      },
      "cell_type": "markdown",
      "source": [
        "After creating our training and validation sets, we print out the min and max to get a sense for the range of feature values. It is always a good idea to inspect your data. In the case of the MNIST dataset, the x-values for each training example correspond to pixel values, that range from 0 to ~1."
      ]
    },
    {
      "metadata": {
        "id": "eDUoeMacw4y_",
        "colab_type": "code",
        "outputId": "2c1fcbc3-b891-4e67-ebf7-8017c76ad1d3",
        "colab": {
          "base_uri": "https://localhost:8080/",
          "height": 34
        }
      },
      "cell_type": "code",
      "source": [
        "x_train.min(),x_train.max()"
      ],
      "execution_count": 38,
      "outputs": [
        {
          "output_type": "execute_result",
          "data": {
            "text/plain": [
              "(tensor(0.), tensor(0.9961))"
            ]
          },
          "metadata": {
            "tags": []
          },
          "execution_count": 38
        }
      ]
    },
    {
      "metadata": {
        "id": "F83L7--Tw4zL",
        "colab_type": "text"
      },
      "cell_type": "markdown",
      "source": [
        "If we try to look inside the data, we will see that it's mostly zeros:"
      ]
    },
    {
      "metadata": {
        "id": "IVXHjVefw4zO",
        "colab_type": "code",
        "outputId": "d7ddad81-6327-45c9-b0cc-1c6e84b88aed",
        "colab": {
          "base_uri": "https://localhost:8080/",
          "height": 136
        }
      },
      "cell_type": "code",
      "source": [
        "x_train"
      ],
      "execution_count": 39,
      "outputs": [
        {
          "output_type": "execute_result",
          "data": {
            "text/plain": [
              "tensor([[0., 0., 0.,  ..., 0., 0., 0.],\n",
              "        [0., 0., 0.,  ..., 0., 0., 0.],\n",
              "        [0., 0., 0.,  ..., 0., 0., 0.],\n",
              "        ...,\n",
              "        [0., 0., 0.,  ..., 0., 0., 0.],\n",
              "        [0., 0., 0.,  ..., 0., 0., 0.],\n",
              "        [0., 0., 0.,  ..., 0., 0., 0.]])"
            ]
          },
          "metadata": {
            "tags": []
          },
          "execution_count": 39
        }
      ]
    },
    {
      "metadata": {
        "id": "VnN8b-Cnw4zb",
        "colab_type": "text"
      },
      "cell_type": "markdown",
      "source": [
        "Let's find the index of the first non-zero value of the first image and look at a few values in its vicinity:"
      ]
    },
    {
      "metadata": {
        "id": "6zQvgYtkw4zi",
        "colab_type": "code",
        "outputId": "e57038fa-4821-4acc-8499-04ce314ada25",
        "colab": {
          "base_uri": "https://localhost:8080/",
          "height": 51
        }
      },
      "cell_type": "code",
      "source": [
        "idx = x_train[0].nonzero()[0]\n",
        "x_train[0][idx-3:idx+15]"
      ],
      "execution_count": 40,
      "outputs": [
        {
          "output_type": "execute_result",
          "data": {
            "text/plain": [
              "tensor([0.0000, 0.0000, 0.0000, 0.0117, 0.0703, 0.0703, 0.0703, 0.4922, 0.5312,\n",
              "        0.6836, 0.1016, 0.6484, 0.9961, 0.9648, 0.4961, 0.0000, 0.0000, 0.0000])"
            ]
          },
          "metadata": {
            "tags": []
          },
          "execution_count": 40
        }
      ]
    },
    {
      "metadata": {
        "id": "D7d1lFhyw4zt",
        "colab_type": "text"
      },
      "cell_type": "markdown",
      "source": [
        "Next we define a few training parameters:\n",
        "\n",
        "* `bs`: batch size\n",
        "* `epochs`: how many full training cycles to perform on the training set\n",
        "* `lr`: learning rate\n",
        "\n",
        "[Here is a reference](https://github.com/fastai/fastai/blob/master/docs/abbr.md) for these and other abbreviations used as variable names. \n",
        "\n",
        "The fast.ai library differs from PEP 8 and instead follows conventions developed around the [APL](https://en.wikipedia.org/wiki/APL_\\(programming_language\\)) / [J](https://en.wikipedia.org/wiki/J_\\(programming_language\\)) / [K](https://en.wikipedia.org/wiki/K_\\(programming_language\\)) programming languages (all of which are centered around multi-dimensional arrays), which are more concise and closer to math notation. [Here is a more detailed explanation](https://github.com/fastai/fastai/blob/master/docs/style.md) of the fast.ai style guide."
      ]
    },
    {
      "metadata": {
        "id": "WFNSKk-ww4zy",
        "colab_type": "code",
        "colab": {}
      },
      "cell_type": "code",
      "source": [
        "bs=64\n",
        "epochs=2\n",
        "lr=0.2"
      ],
      "execution_count": 0,
      "outputs": []
    },
    {
      "metadata": {
        "id": "6tcTyI1iw4z9",
        "colab_type": "text"
      },
      "cell_type": "markdown",
      "source": [
        "PyTorch's [TensorDataset](https://pytorch.org/docs/stable/_modules/torch/utils/data/dataset.html#TensorDataset) is a Dataset wrapping tensors. It gives us a way to iterate, index, and slice along the first dimension of a tensor. This will make it easier to access both the independent and dependent variables in the same line as we train."
      ]
    },
    {
      "metadata": {
        "id": "pPk-cGTcw40A",
        "colab_type": "code",
        "colab": {}
      },
      "cell_type": "code",
      "source": [
        "train_ds = TensorDataset(x_train, y_train)\n",
        "valid_ds = TensorDataset(x_valid, y_valid)"
      ],
      "execution_count": 0,
      "outputs": []
    },
    {
      "metadata": {
        "id": "D5nW0D7Hw40N",
        "colab_type": "text"
      },
      "cell_type": "markdown",
      "source": [
        "We are using the same `loss_batch`, `fit`, and `Lambda` as were defined in the previous notebook:"
      ]
    },
    {
      "metadata": {
        "id": "YvPBEB4Nw40P",
        "colab_type": "code",
        "colab": {}
      },
      "cell_type": "code",
      "source": [
        "#export\n",
        "Rank0Tensor = NewType('OneEltTensor', Tensor)\n",
        "LossFunction = Callable[[Tensor, Tensor], Rank0Tensor]\n",
        "Model = nn.Module\n",
        "\n",
        "def is_listy(x:Any)->bool: return isinstance(x, (tuple,list))\n",
        "\n",
        "def loss_batch(model:Model, xb:Tensor, yb:Tensor, \n",
        "               loss_fn:LossFunction, opt:optim.Optimizer=None):\n",
        "    \"Calculate loss for the batch `xb,yb` and backprop with `opt`\"\n",
        "    if not is_listy(xb): xb = [xb]\n",
        "    if not is_listy(yb): yb = [yb]\n",
        "    loss = loss_fn(model(*xb), *yb)\n",
        "\n",
        "    if opt is not None:\n",
        "        loss.backward()\n",
        "        opt.step()\n",
        "        opt.zero_grad()\n",
        "        \n",
        "    return loss.item(), len(yb)"
      ],
      "execution_count": 0,
      "outputs": []
    },
    {
      "metadata": {
        "id": "1MoKejc1w40U",
        "colab_type": "code",
        "colab": {}
      },
      "cell_type": "code",
      "source": [
        "#export\n",
        "def fit(epochs:int, model:Model, loss_fn:LossFunction, \n",
        "        opt:optim.Optimizer, train_dl:DataLoader, valid_dl:DataLoader):\n",
        "    \"Train `model` on `train_dl` with `optim` then validate against `valid_dl`\"\n",
        "    for epoch in range(epochs):\n",
        "        model.train()\n",
        "        for xb,yb in train_dl: loss,_ = loss_batch(model, xb, yb, loss_fn, opt)\n",
        "\n",
        "        model.eval()\n",
        "        with torch.no_grad():\n",
        "            losses,nums = zip(*[loss_batch(model, xb, yb, loss_fn)\n",
        "                                for xb,yb in valid_dl])\n",
        "        val_loss = np.sum(np.multiply(losses,nums)) / np.sum(nums)\n",
        "\n",
        "        print(epoch, val_loss)"
      ],
      "execution_count": 0,
      "outputs": []
    },
    {
      "metadata": {
        "id": "4BorZguUw40c",
        "colab_type": "code",
        "colab": {}
      },
      "cell_type": "code",
      "source": [
        "#export\n",
        "LambdaFunc = Callable[[Tensor],Tensor]\n",
        "class Lambda(nn.Module):\n",
        "    \"An easy way to create a pytorch layer for a simple `func`\"\n",
        "    def __init__(self, func:LambdaFunc):\n",
        "        \"create a layer that simply calls `func` with `x`\"\n",
        "        super().__init__()\n",
        "        self.func=func\n",
        "        \n",
        "    def forward(self, x): return self.func(x)"
      ],
      "execution_count": 0,
      "outputs": []
    },
    {
      "metadata": {
        "id": "SFB7o84xw40m",
        "colab_type": "text"
      },
      "cell_type": "markdown",
      "source": [
        "## Simplify nn.Sequential layers"
      ]
    },
    {
      "metadata": {
        "id": "w0QkTkSIw40r",
        "colab_type": "text"
      },
      "cell_type": "markdown",
      "source": [
        "As a reminder, our 3-layer CNN from the previous notebook was defined:\n",
        "\n",
        "```\n",
        "model = nn.Sequential(\n",
        "    Lambda(lambda x: x.view(-1,1,28,28)),\n",
        "    nn.Conv2d(1,  16, kernel_size=3, stride=2, padding=1), nn.ReLU(),\n",
        "    nn.Conv2d(16, 16, kernel_size=3, stride=2, padding=1), nn.ReLU(),\n",
        "    nn.Conv2d(16, 10, kernel_size=3, stride=2, padding=1), nn.ReLU(),\n",
        "    nn.AvgPool2d(4),\n",
        "    Lambda(lambda x: x.view(x.size(0),-1))\n",
        ")\n",
        "```\n",
        "\n",
        "Let's refactor this a bit to make it more readable, and to make the components more reusable:"
      ]
    },
    {
      "metadata": {
        "id": "PEfPXF8Tw40t",
        "colab_type": "code",
        "colab": {}
      },
      "cell_type": "code",
      "source": [
        "#export\n",
        "def noop(x): return x\n",
        "\n",
        "def ResizeBatch(*size:int) -> Tensor: \n",
        "    \"Layer that resizes x to `size`, good for connecting mismatched layers\"\n",
        "    return Lambda(lambda x: x.view((-1,)+size))\n",
        "def Flatten()->Tensor: \n",
        "    \"Flattens `x` to a single dimension, often used at the end of a model\"\n",
        "    return Lambda(lambda x: x.view((x.size(0), -1)))\n",
        "def PoolFlatten()->nn.Sequential:\n",
        "    \"Apply `nn.AdaptiveAvgPool2d` to `x` and then flatten the result\"\n",
        "    return nn.Sequential(nn.AdaptiveAvgPool2d(1), Flatten())\n",
        "\n",
        "def conv2d(ni:int, nf:int, ks:int=3, stride:int=1, padding:int=None, bias=False) -> nn.Conv2d:\n",
        "    \"Create `nn.Conv2d` layer: `ni` inputs, `nf` outputs, `ks` kernel size. `padding` defaults to `k//2`\"\n",
        "    if padding is None: padding = ks//2\n",
        "    return nn.Conv2d(ni, nf, kernel_size=ks, stride=stride, padding=padding, bias=bias)\n",
        "\n",
        "def conv2d_relu(ni:int, nf:int, ks:int=3, stride:int=1, \n",
        "                padding:int=None, bn:bool=False) -> nn.Sequential:\n",
        "    \"Create a `conv2d` layer with `nn.ReLU` activation and optional(`bn`) `nn.BatchNorm2d`\"\n",
        "    layers = [conv2d(ni, nf, ks=ks, stride=stride, padding=padding), nn.ReLU()]\n",
        "    if bn: layers.append(nn.BatchNorm2d(nf))\n",
        "    return nn.Sequential(*layers)\n",
        "\n",
        "def conv2d_trans(ni:int, nf:int, ks:int=2, stride:int=2, padding:int=0) -> nn.ConvTranspose2d:\n",
        "    \"Create `nn.nn.ConvTranspose2d` layer: `ni` inputs, `nf` outputs, `ks` kernel size. `padding` defaults to 0\"\n",
        "    return nn.ConvTranspose2d(ni, nf, kernel_size=ks, stride=stride, padding=padding)"
      ],
      "execution_count": 0,
      "outputs": []
    },
    {
      "metadata": {
        "id": "-8LWC7UHw403",
        "colab_type": "text"
      },
      "cell_type": "markdown",
      "source": [
        "Using our newly defined layers and functions, we can instead now define the same networks as:"
      ]
    },
    {
      "metadata": {
        "id": "JIhhhrRRw405",
        "colab_type": "code",
        "colab": {}
      },
      "cell_type": "code",
      "source": [
        "model = nn.Sequential(\n",
        "    ResizeBatch(1,28,28),\n",
        "    conv2d_relu(1,  16), \n",
        "    conv2d_relu(16, 16),\n",
        "    conv2d_relu(16, 10),\n",
        "    PoolFlatten()\n",
        ")"
      ],
      "execution_count": 0,
      "outputs": []
    },
    {
      "metadata": {
        "id": "hckSIWRZw41M",
        "colab_type": "text"
      },
      "cell_type": "markdown",
      "source": [
        "Note that we will nearly always use small kernels of size 3 due to the reasons presented in section 2.3 in [this paper](https://arxiv.org/pdf/1409.1556.pdf) (a few small kernels achieve a receptive field of the same dimension as one bigger kernel while at the same time achieving increased discriminative power and using fewer parameters). \n",
        "\n",
        "We will use the same `get_data method` as defined in the previous notebook:"
      ]
    },
    {
      "metadata": {
        "id": "j6MOsKCZw41d",
        "colab_type": "code",
        "colab": {}
      },
      "cell_type": "code",
      "source": [
        "def get_data(train_ds, valid_ds, bs):\n",
        "    return (DataLoader(train_ds, batch_size=bs, shuffle=True),\n",
        "            DataLoader(valid_ds, batch_size=bs*2))\n",
        "\n",
        "train_dl,valid_dl = get_data(train_ds, valid_ds, bs)"
      ],
      "execution_count": 0,
      "outputs": []
    },
    {
      "metadata": {
        "id": "NJMJt9RZw41j",
        "colab_type": "text"
      },
      "cell_type": "markdown",
      "source": [
        "**Set loss function**\n",
        "\n",
        "[Here](https://rdipietro.github.io/friendly-intro-to-cross-entropy-loss/) is tutorial explaining why cross entropy is a reasonable loss function for classifciation tasks."
      ]
    },
    {
      "metadata": {
        "id": "ve6bQMz9w41l",
        "colab_type": "code",
        "colab": {}
      },
      "cell_type": "code",
      "source": [
        "loss_fn = F.cross_entropy"
      ],
      "execution_count": 0,
      "outputs": []
    },
    {
      "metadata": {
        "id": "QAQ1EY5vw41r",
        "colab_type": "text"
      },
      "cell_type": "markdown",
      "source": [
        "**Set optimizer**\n",
        "\n",
        "We stick with stochastic gradient descent without momentum as our optimizer. This is a basic optimizer and it is [easy to understand](http://ruder.io/optimizing-gradient-descent/index.html#stochasticgradientdescent). We will move into better optimizers as we go forward."
      ]
    },
    {
      "metadata": {
        "id": "0Ao_J619w41v",
        "colab_type": "code",
        "colab": {}
      },
      "cell_type": "code",
      "source": [
        "opt = optim.SGD(model.parameters(), lr=lr)"
      ],
      "execution_count": 0,
      "outputs": []
    },
    {
      "metadata": {
        "id": "Lk5hz3rcw42E",
        "colab_type": "text"
      },
      "cell_type": "markdown",
      "source": [
        "**Test our loss function**\n",
        "\n",
        "We try out our loss function on one batch of X features and y targets to make sure it's working correctly."
      ]
    },
    {
      "metadata": {
        "id": "B7MRvB5Bw42G",
        "colab_type": "code",
        "outputId": "26875c77-7fc3-40e5-ee5a-5d11a086178d",
        "colab": {
          "base_uri": "https://localhost:8080/",
          "height": 34
        }
      },
      "cell_type": "code",
      "source": [
        "loss_fn(model(x_valid[0:bs]), y_valid[0:bs])"
      ],
      "execution_count": 51,
      "outputs": [
        {
          "output_type": "execute_result",
          "data": {
            "text/plain": [
              "tensor(2.3029, grad_fn=<NllLossBackward>)"
            ]
          },
          "metadata": {
            "tags": []
          },
          "execution_count": 51
        }
      ]
    },
    {
      "metadata": {
        "id": "YsIQcFzMw42N",
        "colab_type": "text"
      },
      "cell_type": "markdown",
      "source": [
        "**Fit**\n",
        "\n",
        "Everything looks ready, we call the fit function we developed earlier for two epochs to confirm that the model learns."
      ]
    },
    {
      "metadata": {
        "id": "z8IhU8dyw42T",
        "colab_type": "code",
        "outputId": "07e08fba-a8c0-4c91-9ce5-68481b9e6b3c",
        "colab": {
          "base_uri": "https://localhost:8080/",
          "height": 51
        }
      },
      "cell_type": "code",
      "source": [
        "fit(epochs, model, loss_fn, opt, train_dl, valid_dl)"
      ],
      "execution_count": 52,
      "outputs": [
        {
          "output_type": "stream",
          "text": [
            "0 2.2621611975416354\n",
            "1 1.7725606613521334\n"
          ],
          "name": "stdout"
        }
      ]
    },
    {
      "metadata": {
        "id": "xZGbHLoww42a",
        "colab_type": "text"
      },
      "cell_type": "markdown",
      "source": [
        "## Transformations"
      ]
    },
    {
      "metadata": {
        "id": "2nvczNKhw42d",
        "colab_type": "text"
      },
      "cell_type": "markdown",
      "source": [
        "We are going to refactor some of the data transformations out of the network and into a pipeline that is applied to the data being fed into the Dataloders.\n",
        "\n",
        "This is more flexible, simplifies the model, and will be useful later when we want to apply additional transformations, like data augmentation."
      ]
    },
    {
      "metadata": {
        "id": "X5pl-1l9w42k",
        "colab_type": "text"
      },
      "cell_type": "markdown",
      "source": [
        "**Define transformations**\n",
        "\n",
        "In this example our only transformation will be *mnist2image*. This is a utility function to reshape our features into 28x28 arrays.\n",
        "\n",
        "X is a batch of features, where the first dimension is the number of samples in the batch and the remaining dimensions define the shape of the training example. y is the target variable to be learned, in this case, it is an integer representing one of 10 image classes.\n",
        "\n",
        "With MNIST data, the X features start out as a 1x784 vector and we want to convert the features to 1x28x28 images (see line 62). This helper function does that for an entire batch of features."
      ]
    },
    {
      "metadata": {
        "id": "yS8pgiBDvqx_",
        "colab_type": "text"
      },
      "cell_type": "markdown",
      "source": [
        "**Understanding Python Dataclasses**\n",
        "\n",
        "Dataclasses are python classes but are suited for storing data objects.\n",
        "\n",
        "https://medium.com/mindorks/understanding-python-dataclasses-part-1-c3ccd4355c34 "
      ]
    },
    {
      "metadata": {
        "id": "UDbngeDQw42o",
        "colab_type": "code",
        "colab": {}
      },
      "cell_type": "code",
      "source": [
        "def mnist2image(b): return b.view(1,28,28)"
      ],
      "execution_count": 0,
      "outputs": []
    },
    {
      "metadata": {
        "id": "HSrHwCfNw421",
        "colab_type": "code",
        "colab": {}
      },
      "cell_type": "code",
      "source": [
        "#export\n",
        "@dataclass\n",
        "class DatasetTfm(Dataset):\n",
        "    \"Applies `tfm` to `ds`\"\n",
        "    ds: Dataset\n",
        "    tfm: Callable = None\n",
        "        \n",
        "    def __len__(self): return len(self.ds)\n",
        "    \n",
        "    def __getitem__(self,idx:int):\n",
        "        \"Apply `tfm` to `x` and return `(x[idx],y[idx])`\"\n",
        "        x,y = self.ds[idx]\n",
        "        if self.tfm is not None: x = self.tfm(x)\n",
        "        return x,y"
      ],
      "execution_count": 0,
      "outputs": []
    },
    {
      "metadata": {
        "id": "F9EYcuXhw43C",
        "colab_type": "code",
        "colab": {}
      },
      "cell_type": "code",
      "source": [
        "DatasetTfm.__len__.__doc__"
      ],
      "execution_count": 0,
      "outputs": []
    },
    {
      "metadata": {
        "id": "bwW1jhkHw43I",
        "colab_type": "code",
        "colab": {}
      },
      "cell_type": "code",
      "source": [
        "train_tds = DatasetTfm(train_ds, mnist2image)\n",
        "valid_tds = DatasetTfm(valid_ds, mnist2image)"
      ],
      "execution_count": 0,
      "outputs": []
    },
    {
      "metadata": {
        "id": "_RIR4Ss1w43R",
        "colab_type": "code",
        "colab": {}
      },
      "cell_type": "code",
      "source": [
        "def get_data(train_ds, valid_ds, bs):\n",
        "    return (DataLoader(train_ds, bs,   shuffle=True),\n",
        "            DataLoader(valid_ds, bs*2, shuffle=False))"
      ],
      "execution_count": 0,
      "outputs": []
    },
    {
      "metadata": {
        "id": "mQ3VeVLFw43U",
        "colab_type": "code",
        "colab": {}
      },
      "cell_type": "code",
      "source": [
        "train_dl,valid_dl = get_data(train_tds, valid_tds, bs)"
      ],
      "execution_count": 0,
      "outputs": []
    },
    {
      "metadata": {
        "id": "f95LjCACw43a",
        "colab_type": "text"
      },
      "cell_type": "markdown",
      "source": [
        "We make some checks to make sure that *mnist2image* is working correctly:\n",
        "1. The input and output shapes are as expected\n",
        "2. The input and output data (features) are the same"
      ]
    },
    {
      "metadata": {
        "id": "KRYsQE2dw43b",
        "colab_type": "code",
        "colab": {}
      },
      "cell_type": "code",
      "source": [
        "x,y = next(iter(valid_dl))"
      ],
      "execution_count": 0,
      "outputs": []
    },
    {
      "metadata": {
        "id": "ATHA3VL3w43e",
        "colab_type": "code",
        "outputId": "502fd364-25d8-4bef-b194-9cd6e00b6e38",
        "colab": {
          "base_uri": "https://localhost:8080/",
          "height": 34
        }
      },
      "cell_type": "code",
      "source": [
        "valid_ds[0][0].shape, x[0].shape"
      ],
      "execution_count": 60,
      "outputs": [
        {
          "output_type": "execute_result",
          "data": {
            "text/plain": [
              "(torch.Size([784]), torch.Size([1, 28, 28]))"
            ]
          },
          "metadata": {
            "tags": []
          },
          "execution_count": 60
        }
      ]
    },
    {
      "metadata": {
        "id": "kNoymv3_w43i",
        "colab_type": "code",
        "outputId": "74540ac0-bf53-4f86-b08b-9fe4395938cc",
        "colab": {
          "base_uri": "https://localhost:8080/",
          "height": 34
        }
      },
      "cell_type": "code",
      "source": [
        "torch.allclose(valid_ds[0][0], x[0].view(-1))"
      ],
      "execution_count": 61,
      "outputs": [
        {
          "output_type": "execute_result",
          "data": {
            "text/plain": [
              "True"
            ]
          },
          "metadata": {
            "tags": []
          },
          "execution_count": 61
        }
      ]
    },
    {
      "metadata": {
        "id": "byydzMKTw43l",
        "colab_type": "text"
      },
      "cell_type": "markdown",
      "source": [
        "## Refactor network"
      ]
    },
    {
      "metadata": {
        "id": "DDvS9yLaw43l",
        "colab_type": "text"
      },
      "cell_type": "markdown",
      "source": [
        "**Define layer types and loop over them**\n",
        "\n",
        "When a layer type is used more than once in a contiguous fashion (one after the other), it makes sense to define a function for that layer type and then use that function to build our model function. \n",
        "\n",
        "That is what we do here with *conv2_relu* with which we avoid the three subsequent lines of code in line 12 (this saving becomes more significant in deeper networks)."
      ]
    },
    {
      "metadata": {
        "id": "MJ1qWM2Fw43q",
        "colab_type": "code",
        "colab": {}
      },
      "cell_type": "code",
      "source": [
        "#export\n",
        "def simple_cnn(actns:Collection[int], kernel_szs:Collection[int], \n",
        "               strides:Collection[int]) -> nn.Sequential:\n",
        "    \"CNN with `conv2d_relu` layers defined by `actns`, `kernel_szs` and `strides`\"\n",
        "    layers = [conv2d_relu(actns[i], actns[i+1], kernel_szs[i], stride=strides[i])\n",
        "        for i in range(len(strides))]\n",
        "    layers.append(PoolFlatten())\n",
        "    return nn.Sequential(*layers)"
      ],
      "execution_count": 0,
      "outputs": []
    },
    {
      "metadata": {
        "id": "NFVzQEv2w43u",
        "colab_type": "code",
        "colab": {}
      },
      "cell_type": "code",
      "source": [
        "def get_model():\n",
        "    model = simple_cnn([1,16,16,10], [3,3,3], [2,2,2])\n",
        "    return model, optim.SGD(model.parameters(), lr=lr)"
      ],
      "execution_count": 0,
      "outputs": []
    },
    {
      "metadata": {
        "id": "xhDmsEjOw430",
        "colab_type": "code",
        "outputId": "f5d3693e-dbbf-4c6e-ce8c-8ad6f52e22c8",
        "colab": {
          "base_uri": "https://localhost:8080/",
          "height": 323
        }
      },
      "cell_type": "code",
      "source": [
        "model,opt = get_model()\n",
        "model"
      ],
      "execution_count": 65,
      "outputs": [
        {
          "output_type": "execute_result",
          "data": {
            "text/plain": [
              "Sequential(\n",
              "  (0): Sequential(\n",
              "    (0): Conv2d(1, 16, kernel_size=(3, 3), stride=(2, 2), padding=(1, 1), bias=False)\n",
              "    (1): ReLU()\n",
              "  )\n",
              "  (1): Sequential(\n",
              "    (0): Conv2d(16, 16, kernel_size=(3, 3), stride=(2, 2), padding=(1, 1), bias=False)\n",
              "    (1): ReLU()\n",
              "  )\n",
              "  (2): Sequential(\n",
              "    (0): Conv2d(16, 10, kernel_size=(3, 3), stride=(2, 2), padding=(1, 1), bias=False)\n",
              "    (1): ReLU()\n",
              "  )\n",
              "  (3): Sequential(\n",
              "    (0): AdaptiveAvgPool2d(output_size=1)\n",
              "    (1): Lambda()\n",
              "  )\n",
              ")"
            ]
          },
          "metadata": {
            "tags": []
          },
          "execution_count": 65
        }
      ]
    },
    {
      "metadata": {
        "id": "uKiaTrUMw434",
        "colab_type": "code",
        "outputId": "2fdf2ca5-6158-41cb-cd20-35a621739483",
        "colab": {
          "base_uri": "https://localhost:8080/",
          "height": 51
        }
      },
      "cell_type": "code",
      "source": [
        "fit(epochs, model, loss_fn, opt, train_dl, valid_dl)"
      ],
      "execution_count": 66,
      "outputs": [
        {
          "output_type": "stream",
          "text": [
            "0 1.3332307761228537\n",
            "1 0.6798192764384837\n"
          ],
          "name": "stdout"
        }
      ]
    },
    {
      "metadata": {
        "id": "fPRP76yNw439",
        "colab_type": "text"
      },
      "cell_type": "markdown",
      "source": [
        "## CUDA"
      ]
    },
    {
      "metadata": {
        "id": "Gm26LCK6w43_",
        "colab_type": "text"
      },
      "cell_type": "markdown",
      "source": [
        "**Run in GPU and add progress bar**\n",
        "\n",
        "To run our Pytorch networks in the GPU we have to specify it in the code. This is done by setting *torch.device('cuda')*. We will also add a progress bar to keep track of the progress during training. This we accomplish with [fastprogress](https://github.com/fastai/fastprogress) package.\n",
        "\n",
        "We integrate both these features into a custom Dataloader which we build on top of the Pytorch Dataloader."
      ]
    },
    {
      "metadata": {
        "id": "LMKTS1_Aw44C",
        "colab_type": "code",
        "colab": {}
      },
      "cell_type": "code",
      "source": [
        "#export\n",
        "def ifnone(a:bool,b:Any):\n",
        "    \"`a` if its not None, otherwise `b`\"\n",
        "    return b if a is None else a\n",
        "\n",
        "default_device = torch.device('cuda') if torch.cuda.is_available() else torch.device('cpu')\n",
        "Tensors = Union[Tensor, Collection['Tensors']]\n",
        "\n",
        "def to_device(b:Tensors, device:torch.device):\n",
        "    \"Ensure `b` is on `device`\"\n",
        "    device = ifnone(device, default_device)\n",
        "    if is_listy(b): return [to_device(o, device) for o in b]\n",
        "    return b.to(device)\n",
        "\n",
        "@dataclass\n",
        "class DeviceDataLoader():\n",
        "    \"`DataLoader` that ensures batches from `dl` are on `device`\"\n",
        "    dl: DataLoader\n",
        "    device: torch.device\n",
        "\n",
        "    def __len__(self) -> int: return len(self.dl)\n",
        "    def proc_batch(self,b:Tensors): return to_device(b, self.device)\n",
        "\n",
        "    def __iter__(self)->Tensors:\n",
        "        \"Ensure batches from `dl` are on `device` as we iterate\"\n",
        "        self.gen = map(self.proc_batch, self.dl)\n",
        "        return iter(self.gen)\n",
        "\n",
        "    @classmethod\n",
        "    def create(cls, *args, device:torch.device=default_device, **kwargs): return cls(DataLoader(*args, **kwargs), device=device)"
      ],
      "execution_count": 0,
      "outputs": []
    },
    {
      "metadata": {
        "id": "47JiL6MAw44G",
        "colab_type": "code",
        "outputId": "a6902bbb-29f2-4df8-d68d-50a7baa215e0",
        "colab": {
          "base_uri": "https://localhost:8080/",
          "height": 34
        }
      },
      "cell_type": "code",
      "source": [
        "Tensors"
      ],
      "execution_count": 68,
      "outputs": [
        {
          "output_type": "execute_result",
          "data": {
            "text/plain": [
              "typing.Union[torch.Tensor, typing.Collection[_ForwardRef('Tensors')]]"
            ]
          },
          "metadata": {
            "tags": []
          },
          "execution_count": 68
        }
      ]
    },
    {
      "metadata": {
        "id": "V_vDxKWew44N",
        "colab_type": "code",
        "colab": {}
      },
      "cell_type": "code",
      "source": [
        "def get_data(train_ds, valid_ds, bs):\n",
        "    return (DeviceDataLoader.create(train_ds, bs,   shuffle=True,  num_workers=2),\n",
        "            DeviceDataLoader.create(valid_ds, bs*2, shuffle=False, num_workers=2))"
      ],
      "execution_count": 0,
      "outputs": []
    },
    {
      "metadata": {
        "id": "2fcBaX5rw44T",
        "colab_type": "code",
        "colab": {}
      },
      "cell_type": "code",
      "source": [
        "train_dl,valid_dl = get_data(train_tds, valid_tds, bs)"
      ],
      "execution_count": 0,
      "outputs": []
    },
    {
      "metadata": {
        "id": "Ju70p_4Gw44V",
        "colab_type": "code",
        "colab": {}
      },
      "cell_type": "code",
      "source": [
        "def get_model():\n",
        "    model = simple_cnn([1,16,16,10], [3,3,3], [2,2,2]).to(default_device)\n",
        "    return model, optim.SGD(model.parameters(), lr=lr)"
      ],
      "execution_count": 0,
      "outputs": []
    },
    {
      "metadata": {
        "id": "eAzAlffMw44Y",
        "colab_type": "code",
        "colab": {}
      },
      "cell_type": "code",
      "source": [
        "model,opt = get_model()"
      ],
      "execution_count": 0,
      "outputs": []
    },
    {
      "metadata": {
        "id": "VP6n3oh9w44b",
        "colab_type": "code",
        "colab": {}
      },
      "cell_type": "code",
      "source": [
        "x,y = next(iter(valid_dl))"
      ],
      "execution_count": 0,
      "outputs": []
    },
    {
      "metadata": {
        "id": "qA3IdZVIw44g",
        "colab_type": "code",
        "outputId": "be81fcca-3d24-45a0-954f-4125a2edad00",
        "colab": {
          "base_uri": "https://localhost:8080/",
          "height": 34
        }
      },
      "cell_type": "code",
      "source": [
        "x.type(),y.type()"
      ],
      "execution_count": 74,
      "outputs": [
        {
          "output_type": "execute_result",
          "data": {
            "text/plain": [
              "('torch.cuda.FloatTensor', 'torch.cuda.LongTensor')"
            ]
          },
          "metadata": {
            "tags": []
          },
          "execution_count": 74
        }
      ]
    },
    {
      "metadata": {
        "id": "igDMyOkUw44k",
        "colab_type": "code",
        "colab": {}
      },
      "cell_type": "code",
      "source": [
        "#export\n",
        "def fit(epochs:int, model:Model, loss_fn:LossFunction, \n",
        "        opt:optim.Optimizer, train_dl:DataLoader, valid_dl:DataLoader) -> None:\n",
        "    \"Train `model` for `epochs` with `loss_fun` and `optim`\"\n",
        "    for epoch in range(epochs):\n",
        "        model.train()\n",
        "        for xb,yb in train_dl: loss,_ = loss_batch(model, xb, yb, loss_fn, opt)\n",
        "\n",
        "        model.eval()\n",
        "        with torch.no_grad():\n",
        "            losses,nums = zip(*[loss_batch(model, xb, yb, loss_fn)\n",
        "                                for xb,yb in valid_dl])\n",
        "        val_loss = np.sum(np.multiply(losses,nums)) / np.sum(nums)\n",
        "\n",
        "        print(epoch, val_loss)"
      ],
      "execution_count": 0,
      "outputs": []
    },
    {
      "metadata": {
        "id": "jW6hlM-dw44n",
        "colab_type": "code",
        "outputId": "5b5be514-42ff-44a5-dd83-f303fba9c6de",
        "colab": {
          "base_uri": "https://localhost:8080/",
          "height": 51
        }
      },
      "cell_type": "code",
      "source": [
        "fit(epochs, model, loss_fn, opt, train_dl, valid_dl)"
      ],
      "execution_count": 76,
      "outputs": [
        {
          "output_type": "stream",
          "text": [
            "0 1.3646892377092867\n",
            "1 0.6085952233664597\n"
          ],
          "name": "stdout"
        }
      ]
    },
    {
      "metadata": {
        "id": "81aFX28Rw44q",
        "colab_type": "text"
      },
      "cell_type": "markdown",
      "source": [
        "## Learner"
      ]
    },
    {
      "metadata": {
        "id": "kZkx-YtKw44r",
        "colab_type": "text"
      },
      "cell_type": "markdown",
      "source": [
        "**Define learner**\n",
        "\n",
        "Finally, we are missing a learner class to close the gap between our loaded data and our model. The learner class will receive our loaded data (after transformations) and the model and we will be able to call `fit()` on it to start the training phase."
      ]
    },
    {
      "metadata": {
        "id": "bonqpsxgw44s",
        "colab_type": "code",
        "colab": {}
      },
      "cell_type": "code",
      "source": [
        "#export\n",
        "TItem = TypeVar('TItem')\n",
        "TfmCallable = Callable[[TItem],TItem]\n",
        "TfmList = Union[TfmCallable, Collection[TfmCallable]]\n",
        "Tfms = Optional[TfmList]\n",
        "\n",
        "@dataclass\n",
        "class DataBunch():\n",
        "    \"Bind `train_dl`, `valid_dl` to `device`\"\n",
        "    train_dl:DataLoader\n",
        "    valid_dl:DataLoader\n",
        "    device:torch.device=None\n",
        "\n",
        "    @classmethod\n",
        "    def create(cls, train_ds:Dataset, valid_ds:Dataset, bs:int=64, \n",
        "               train_tfm:Tfms=None, valid_tfm:Tfms=None, device:torch.device=None, **kwargs):\n",
        "        return cls(DeviceDataLoader.create(DatasetTfm(train_ds, train_tfm), bs,   shuffle=True,  device=device, **kwargs),\n",
        "                   DeviceDataLoader.create(DatasetTfm(valid_ds, valid_tfm), bs*2, shuffle=False, device=device, **kwargs),\n",
        "                   device=device)\n",
        "\n",
        "class Learner():\n",
        "    \"Train `model` on `data` for `epochs` using learning rate `lr` and `opt_fn` to optimize training\"\n",
        "    def __init__(self, data:DataBunch, model:Model):\n",
        "        self.data,self.model = data,to_device(model, data.device)\n",
        "\n",
        "    def fit(self, epochs, lr, opt_fn=optim.SGD):\n",
        "        opt = opt_fn(self.model.parameters(), lr=lr)\n",
        "        loss_fn = F.cross_entropy\n",
        "        fit(epochs, self.model, loss_fn, opt, self.data.train_dl, self.data.valid_dl)"
      ],
      "execution_count": 0,
      "outputs": []
    },
    {
      "metadata": {
        "id": "r_otC0igw44u",
        "colab_type": "code",
        "colab": {}
      },
      "cell_type": "code",
      "source": [
        "data = DataBunch.create(train_ds, valid_ds, bs=bs, train_tfm=mnist2image, valid_tfm=mnist2image)\n",
        "model = simple_cnn([1,16,16,10], [3,3,3], [2,2,2])\n",
        "learner = Learner(data, model)\n",
        "opt_fn = partial(optim.SGD, momentum=0.9)"
      ],
      "execution_count": 0,
      "outputs": []
    },
    {
      "metadata": {
        "id": "k3zJPzTDw45F",
        "colab_type": "code",
        "outputId": "9bae7375-b92c-4e72-f33a-12e2960009f2",
        "colab": {
          "base_uri": "https://localhost:8080/",
          "height": 34
        }
      },
      "cell_type": "code",
      "source": [
        "learner.fit(1, lr/5, opt_fn=opt_fn)"
      ],
      "execution_count": 79,
      "outputs": [
        {
          "output_type": "stream",
          "text": [
            "0 0.5167450225805934\n"
          ],
          "name": "stdout"
        }
      ]
    },
    {
      "metadata": {
        "id": "7IOFRLchw45H",
        "colab_type": "code",
        "outputId": "f4230577-75aa-4b7b-cb23-e146c636910b",
        "colab": {
          "base_uri": "https://localhost:8080/",
          "height": 68
        }
      },
      "cell_type": "code",
      "source": [
        "learner.fit(2, lr, opt_fn=opt_fn)\n",
        "learner.fit(1, lr/5, opt_fn=opt_fn)"
      ],
      "execution_count": 80,
      "outputs": [
        {
          "output_type": "stream",
          "text": [
            "0 0.26643408504845223\n",
            "1 0.20651235997299605\n",
            "0 0.16820322288365303\n"
          ],
          "name": "stdout"
        }
      ]
    },
    {
      "metadata": {
        "id": "q6IbzA0jw45L",
        "colab_type": "code",
        "colab": {}
      },
      "cell_type": "code",
      "source": [
        ""
      ],
      "execution_count": 0,
      "outputs": []
    }
  ]
}