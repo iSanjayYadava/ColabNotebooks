{
  "nbformat": 4,
  "nbformat_minor": 0,
  "metadata": {
    "colab": {
      "name": "003_rect_square_crop.ipynb",
      "version": "0.3.2",
      "provenance": [],
      "include_colab_link": true
    },
    "kernelspec": {
      "display_name": "Python 3",
      "language": "python",
      "name": "python3"
    }
  },
  "cells": [
    {
      "cell_type": "markdown",
      "metadata": {
        "id": "view-in-github",
        "colab_type": "text"
      },
      "source": [
        "<a href=\"https://colab.research.google.com/github/iSanjayYadava/ColabNotebooks/blob/master/003_rect_square_crop.ipynb\" target=\"_parent\"><img src=\"https://colab.research.google.com/assets/colab-badge.svg\" alt=\"Open In Colab\"/></a>"
      ]
    },
    {
      "metadata": {
        "id": "p8k1cfLiJ_gU",
        "colab_type": "code",
        "colab": {}
      },
      "cell_type": "code",
      "source": [
        "%reload_ext autoreload\n",
        "%autoreload 2"
      ],
      "execution_count": 0,
      "outputs": []
    },
    {
      "metadata": {
        "id": "LQ3ZyUQEJ_gZ",
        "colab_type": "code",
        "colab": {}
      },
      "cell_type": "code",
      "source": [
        "#export\n",
        "import nb_002\n",
        "from nb_002c import *\n",
        "\n",
        "import operator"
      ],
      "execution_count": 0,
      "outputs": []
    },
    {
      "metadata": {
        "id": "wUiVa63kJ_gc",
        "colab_type": "code",
        "colab": {}
      },
      "cell_type": "code",
      "source": [
        "DATA_PATH = Path('data')\n",
        "PATH = DATA_PATH/'caltech101' # http://www.vision.caltech.edu/Image_Datasets/Caltech101/"
      ],
      "execution_count": 0,
      "outputs": []
    },
    {
      "metadata": {
        "id": "Hsrmv_9rJ_gg",
        "colab_type": "text"
      },
      "cell_type": "markdown",
      "source": [
        "# Caltech 101"
      ]
    },
    {
      "metadata": {
        "id": "aQd49xmNJ_gh",
        "colab_type": "text"
      },
      "cell_type": "markdown",
      "source": [
        "## Create validation set"
      ]
    },
    {
      "metadata": {
        "id": "Uwt_DErEJ_gi",
        "colab_type": "text"
      },
      "cell_type": "markdown",
      "source": [
        "The first step will be to create a dataset from our files. We need to separate a definite amount of files to be used as our validation set. We will do this randomly by setting a percentage apart, in this case 0.2."
      ]
    },
    {
      "metadata": {
        "id": "2Ct0cgf0J_gj",
        "colab_type": "code",
        "colab": {}
      },
      "cell_type": "code",
      "source": [
        "classes = [\"airplanes\", \"Motorbikes\", \"BACKGROUND_Google\", \"Faces\", \"watch\", \"Leopards\", \"bonsai\",\n",
        "    \"car_side\", \"ketch\", \"chandelier\", \"hawksbill\", \"grand_piano\", \"brain\", \"butterfly\", \"helicopter\", \"menorah\",\n",
        "    \"trilobite\", \"starfish\", \"kangaroo\", \"sunflower\", \"ewer\", \"buddha\", \"scorpion\", \"revolver\", \"laptop\", \"ibis\", \"llama\",\n",
        "    \"minaret\", \"umbrella\", \"electric_guitar\", \"crab\", \"crayfish\",]\n",
        "\n",
        "np.random.seed(42)\n",
        "train_ds,valid_ds = ImageDataset.from_folder(PATH, valid_pct=0.2)\n",
        "\n",
        "x = train_ds[1114][0]\n",
        "def xi(): return train_ds[1114][0]\n",
        "classes = train_ds.classes\n",
        "c = len(classes)\n",
        "\n",
        "len(train_ds),len(valid_ds),c"
      ],
      "execution_count": 0,
      "outputs": []
    },
    {
      "metadata": {
        "id": "mF9Q7qXqJ_gm",
        "colab_type": "text"
      },
      "cell_type": "markdown",
      "source": [
        "## Rectangular affine fix"
      ]
    },
    {
      "metadata": {
        "id": "fQ8N7X-xJ_gn",
        "colab_type": "code",
        "colab": {}
      },
      "cell_type": "code",
      "source": [
        "x.show(figsize=(6,3), hide_axis=False)\n",
        "print(x.shape)"
      ],
      "execution_count": 0,
      "outputs": []
    },
    {
      "metadata": {
        "id": "NoIqbLx4J_gq",
        "colab_type": "code",
        "colab": {}
      },
      "cell_type": "code",
      "source": [
        "rot_m = np.array(rotate.func(40.)); rot_m"
      ],
      "execution_count": 0,
      "outputs": []
    },
    {
      "metadata": {
        "id": "z3w9Ig8XJ_gt",
        "colab_type": "code",
        "colab": {}
      },
      "cell_type": "code",
      "source": [
        "rotate(xi(), 40.).show(figsize=(6,3))"
      ],
      "execution_count": 0,
      "outputs": []
    },
    {
      "metadata": {
        "id": "sHozpRx_J_gy",
        "colab_type": "code",
        "colab": {}
      },
      "cell_type": "code",
      "source": [
        "#export\n",
        "def affine_mult(c:FlowField,m:AffineMatrix)->FlowField:\n",
        "    \"Multiply `c` by `m` - can adjust for rectangular shaped `c`\"\n",
        "    if m is None: return c\n",
        "    size = c.size()\n",
        "    _,h,w,_ = size\n",
        "    m[0,1] *= h/w\n",
        "    m[1,0] *= w/h\n",
        "    c = c.view(-1,2)\n",
        "    c = torch.addmm(m[:2,2], c,  m[:2,:2].t())\n",
        "    return c.view(size)\n",
        "\n",
        "nb_002.affine_mult = affine_mult"
      ],
      "execution_count": 0,
      "outputs": []
    },
    {
      "metadata": {
        "id": "Ft2aVhT3J_g6",
        "colab_type": "code",
        "colab": {}
      },
      "cell_type": "code",
      "source": [
        "rotate(xi(), 40.).show(figsize=(6,3))"
      ],
      "execution_count": 0,
      "outputs": []
    },
    {
      "metadata": {
        "id": "RDwzoUf8J_g8",
        "colab_type": "text"
      },
      "cell_type": "markdown",
      "source": [
        "## Crop with padding"
      ]
    },
    {
      "metadata": {
        "id": "qIkKKc5OJ_g9",
        "colab_type": "text"
      },
      "cell_type": "markdown",
      "source": [
        "Now we are going to add padding or crop automatically according to a desired final size. The best way to do this is to integrate both transforms into the same function. \n",
        "\n",
        "We will do the padding necessary to achieve a _size x size_ (square) image. If _size_ is greater than either the height or width dimension of our image, we know we will need to add padding. If _size_ is smaller than either _height_ or _width_ dimension of our image, we will have to crop. We might have to do one, the other, both or neither. In this example we are only adding padding since both our _height_ and _width_ are smaller than 300, our desired dimension for the new _height_ and _width_.\n",
        "\n",
        "As is the case with our original function, we can add a *row_pct* or *col_pct* to our transform to focus on different parts of the image instead of the center which is our default.\n",
        "\n",
        "**Crop_pad**\n",
        "\n",
        "Crop_pad crops and pads our image to create an output image according to a given target size.\n",
        "\n",
        "_Parameters_\n",
        "\n",
        "1. **Size** What is the target size of each side in pixels. If only one number *s* is specified, image is made square with dimensions *s* \\* *s*.\n",
        "\n",
        "    Domain: Positive integers.\n",
        "    \n",
        "2. **Padding_mode** What is the type of padding used in the transform.\n",
        "    \n",
        "    Domain: 'reflect', 'zeros', 'border'\n",
        "    \n",
        "3. **Row_pct** Determines where to cut our image vertically on the bottom and top when cropping (which rows are left out). If <0.5, more rows will be cut in the top than in the bottom and viceversa  (varies linearly).\n",
        "\n",
        "    Domain: Real numbers between 0 and 1.\n",
        "    \n",
        "4. **Col_pct** Determines where to cut our image horizontally on the left and right when cropping (which columns are left out). If <0.5, more rows will be cut in the left than in the right and viceversa (varies linearly).\n",
        "\n",
        "    Domain: Real numbers between 0 and 1.\n",
        "\n",
        "Note: While experimenting take into account that this example image contains a thin black border in the original. This affects our transforms and can be seen when we use reflect padding."
      ]
    },
    {
      "metadata": {
        "id": "JTNrHLEGJ_g-",
        "colab_type": "code",
        "colab": {}
      },
      "cell_type": "code",
      "source": [
        "#export\n",
        "class TfmCrop(TfmPixel): order=99\n",
        "\n",
        "@TfmCrop\n",
        "def crop_pad(x, size, padding_mode='reflect',\n",
        "             row_pct:uniform = 0.5, col_pct:uniform = 0.5):\n",
        "    \"Crop and pad tfm - `row_pct`,`col_pct` sets focal point\"\n",
        "    if padding_mode=='zeros': padding_mode='constant'\n",
        "    size = listify(size,2)\n",
        "    if x.shape[1:] == size: return x\n",
        "    rows,cols = size\n",
        "    if x.size(1)<rows or x.size(2)<cols:\n",
        "        row_pad = max((rows-x.size(1)+1)//2, 0)\n",
        "        col_pad = max((cols-x.size(2)+1)//2, 0)\n",
        "        x = F.pad(x[None], (col_pad,col_pad,row_pad,row_pad), mode=padding_mode)[0]\n",
        "    row = int((x.size(1)-rows+1)*row_pct)\n",
        "    col = int((x.size(2)-cols+1)*col_pct)\n",
        "\n",
        "    x = x[:, row:row+rows, col:col+cols]\n",
        "    return x.contiguous() # without this, get NaN later - don't know why"
      ],
      "execution_count": 0,
      "outputs": []
    },
    {
      "metadata": {
        "id": "bNh_EwwNJ_hB",
        "colab_type": "code",
        "colab": {}
      },
      "cell_type": "code",
      "source": [
        "crop_pad(xi(), 300, row_pct=0.,col_pct=0., padding_mode='constant').show()"
      ],
      "execution_count": 0,
      "outputs": []
    },
    {
      "metadata": {
        "id": "klWRLga1J_hE",
        "colab_type": "code",
        "colab": {}
      },
      "cell_type": "code",
      "source": [
        "crop_pad(xi(), 150).show()"
      ],
      "execution_count": 0,
      "outputs": []
    },
    {
      "metadata": {
        "id": "hpfqpLA8J_hG",
        "colab_type": "code",
        "colab": {}
      },
      "cell_type": "code",
      "source": [
        "crop_pad(xi(), 150, row_pct=0.,col_pct=0.98, padding_mode='constant').show()"
      ],
      "execution_count": 0,
      "outputs": []
    },
    {
      "metadata": {
        "id": "y_mLPivvJ_hJ",
        "colab_type": "code",
        "colab": {}
      },
      "cell_type": "code",
      "source": [
        "tfm = crop_pad(size=100, row_pct=(0,1.), col_pct=(0,1.))\n",
        "\n",
        "_,axes = plt.subplots(1,4, figsize=(12,3))\n",
        "for ax in axes.flat:\n",
        "    tfm.resolve()\n",
        "    tfm(xi()).show(ax)"
      ],
      "execution_count": 0,
      "outputs": []
    },
    {
      "metadata": {
        "id": "El_uyBssJ_hL",
        "colab_type": "text"
      },
      "cell_type": "markdown",
      "source": [
        "## Combine crop/resize"
      ]
    },
    {
      "metadata": {
        "id": "FzohoyJuJ_hM",
        "colab_type": "text"
      },
      "cell_type": "markdown",
      "source": [
        "Next, we are going to combine our cropping and padding with the resize operation. In other words, we will get a picture, and crop/pad it in such a way that we get our desired size. It is similar to our previous transform only this time the final dimensions don't have to be square. This gives us more flexibility since our network architecture might take rectangular pictures as input.\n",
        "\n",
        "First, we will get the target dimensions. For this we have built *get_crop_target*. This function takes three arguments: a target_px, a target_aspect and a multiple. *target_px* is our base dimension, *target_aspect* is our relation between width and height and _mult_ is what do we need our dimensions to be a multiple of. \n",
        "\n",
        "To understand this better, let's take our example where our values are *target_px*=220, *target_aspect*=2., _mult_=32 (default). In plain text we are telling our function: return the dimensions that meet a ~220\\*220 area image with a width twice as long as the height and where height and width are multiples of 32."
      ]
    },
    {
      "metadata": {
        "id": "8ylGiqWNJ_hN",
        "colab_type": "code",
        "colab": {}
      },
      "cell_type": "code",
      "source": [
        "#export\n",
        "def round_multiple(x:int, mult:int)->int: \n",
        "    \"Calc `x` to nearest multiple of `mult`\"\n",
        "    return (int(x/mult+0.5)*mult)\n",
        "\n",
        "def get_crop_target(target_px:Union[int,Tuple[int,int]], mult:int=32)->Tuple[int,int]:\n",
        "    \"Calc crop shape of `target_px` to nearest multiple of `mult`\"\n",
        "    target_r,target_c = listify(target_px, 2)\n",
        "    return round_multiple(target_r,mult),round_multiple(target_c,mult)"
      ],
      "execution_count": 0,
      "outputs": []
    },
    {
      "metadata": {
        "id": "aT22U2zoJ_hQ",
        "colab_type": "code",
        "colab": {}
      },
      "cell_type": "code",
      "source": [
        "crop_target = get_crop_target(220)\n",
        "target_r,target_c = crop_target\n",
        "crop_target"
      ],
      "execution_count": 0,
      "outputs": []
    },
    {
      "metadata": {
        "id": "EHu7mXdHJ_hY",
        "colab_type": "code",
        "colab": {}
      },
      "cell_type": "code",
      "source": [
        "_,r,c = x.shape; x.shape"
      ],
      "execution_count": 0,
      "outputs": []
    },
    {
      "metadata": {
        "id": "YHXgsSwpJ_hb",
        "colab_type": "text"
      },
      "cell_type": "markdown",
      "source": [
        "We are now going to transform our image to our desired dimensions by using crop or padding. Before we crop or pad we will make an intermediate transform that will allow us to later get our output image with the desired dimensions. Let's call our initial dimensions h_i, w_i, our intermediate dimensions h_m, w_m and our output dimensions h_o, w_o.\n",
        "\n",
        "Our objective will be to get our output image by cropping or padding but not both. To achive this, we will first enlarge or reduce our original image. **get_resize_target will enlarge or reduce our input image (keeping the shape or h_i/w_i constant) until one of the dimensions is equal to the corresponding final output dimension (i.e. h_m=h_o or w_m=w_o)**. But how does it know which dimension to equate? We can figure this out intuitively. If we intend to crop, our intermediate image's area has to be larger than our output image (since we are going to crop out some pixels) and if we intend to pad, our intermediate image's area has to be smaller than our output image (since we will add some pixels). This means that the dimension we will chose to equate will depend on the relationship between the ratios h_i/h_0 and w_i/w_o. If we want to **crop** we will want to equate the dimension with **the smallest ratio** since that would mean that (h_m, w_m) >= (h_o, w_o) which is exactly what we want (a larger area). Conversely if we want to **pad**, we will equate the dimension with **the largest ratio** since that will guarantee that (h_m, w_m) <= (h_o, w_o) (a smaller area).\n",
        "\n",
        "As an example say we have our image with dimensions h_i = 192 and w_i = 128 and our target dimensions are h_o=160 w_o=320. That is, we have to turn a vertical rectangle into a horizontal rectangle. We can do this in to ways:\n",
        "\n",
        "1. Padding the borders so we make our image wider\n",
        "2. Cropping the top and bottom so we squash our image and make it wider\n",
        "\n",
        "If we intend to crop, our intermediate dimensions will be (h_m, w_m) = (480, 320). If we intend to pad (h_m, w_m) = (160, 107). Note that 480/320 ≈ 160/107 ≈ 192/128."
      ]
    },
    {
      "metadata": {
        "id": "uUqMpNAcJ_hd",
        "colab_type": "code",
        "colab": {}
      },
      "cell_type": "code",
      "source": [
        "r_ratio = r/target_r\n",
        "c_ratio = c/target_c\n",
        "# min -> crop; max -> pad\n",
        "ratio = max(r_ratio,c_ratio)\n",
        "r_ratio,c_ratio,ratio"
      ],
      "execution_count": 0,
      "outputs": []
    },
    {
      "metadata": {
        "id": "sAD2hTwiJ_hg",
        "colab_type": "code",
        "colab": {}
      },
      "cell_type": "code",
      "source": [
        "r2,c2 = round(r/ratio),round(c/ratio); r2,c2"
      ],
      "execution_count": 0,
      "outputs": []
    },
    {
      "metadata": {
        "id": "tpXyHuo9J_hk",
        "colab_type": "code",
        "colab": {}
      },
      "cell_type": "code",
      "source": [
        "#export\n",
        "def get_resize_target(img, crop_target, do_crop=False)->TensorImageSize:\n",
        "    \"Calc size of `img` to fit in `crop_target` - adjust based on `do_crop`\"\n",
        "    if crop_target is None: return None\n",
        "    ch,r,c = img.shape\n",
        "    target_r,target_c = crop_target\n",
        "    ratio = (min if do_crop else max)(r/target_r, c/target_c)\n",
        "    return ch,round(r/ratio),round(c/ratio)"
      ],
      "execution_count": 0,
      "outputs": []
    },
    {
      "metadata": {
        "id": "PJBwoDtOJ_hn",
        "colab_type": "code",
        "colab": {}
      },
      "cell_type": "code",
      "source": [
        "get_resize_target(x, crop_target, False)"
      ],
      "execution_count": 0,
      "outputs": []
    },
    {
      "metadata": {
        "id": "8qYm80AqJ_hs",
        "colab_type": "code",
        "colab": {}
      },
      "cell_type": "code",
      "source": [
        "get_resize_target(x, crop_target, True)"
      ],
      "execution_count": 0,
      "outputs": []
    },
    {
      "metadata": {
        "id": "5T9gM75RJ_hw",
        "colab_type": "code",
        "colab": {}
      },
      "cell_type": "code",
      "source": [
        "#export\n",
        "def is_listy(x:Any)->bool: return isinstance(x, (tuple,list))\n",
        "\n",
        "def apply_tfms(tfms:TfmList, x:TensorImage, do_resolve:bool=True, \n",
        "               xtra:Optional[Dict[Transform,dict]]=None, size:Optional[Union[int,TensorImageSize]]=None,\n",
        "               mult:int=32, do_crop:bool=True, padding_mode:str='reflect', **kwargs:Any)->TensorImage:\n",
        "    \"Apply all `tfms` to `x` - `do_resolve`: bind random args - size,mult used to crop/pad\"\n",
        "    if tfms or xtra or size:\n",
        "        if not xtra: xtra={}\n",
        "        tfms = sorted(listify(tfms), key=lambda o: o.tfm.order)\n",
        "        if do_resolve: resolve_tfms(tfms)\n",
        "        x = x.clone()\n",
        "        x.set_sample(padding_mode=padding_mode, **kwargs)\n",
        "        if size:\n",
        "            crop_target = get_crop_target(size, mult=mult)\n",
        "            target = get_resize_target(x, crop_target, do_crop=do_crop)\n",
        "            x.resize(target)\n",
        "\n",
        "        size_tfms = [o for o in tfms if isinstance(o.tfm,TfmCrop)]\n",
        "        for tfm in tfms:\n",
        "            if tfm.tfm in xtra: x = tfm(x, **xtra[tfm.tfm])\n",
        "            elif tfm in size_tfms: x = tfm(x, size=size, padding_mode=padding_mode)\n",
        "            else: x = tfm(x)\n",
        "    return x\n",
        "\n",
        "import nb_002\n",
        "nb_002.apply_tfms = apply_tfms"
      ],
      "execution_count": 0,
      "outputs": []
    },
    {
      "metadata": {
        "id": "_rhB_pqzJ_hz",
        "colab_type": "code",
        "colab": {}
      },
      "cell_type": "code",
      "source": [
        "tfms = [rotate(degrees=(40.,40.)),\n",
        "        crop_pad()]\n",
        "\n",
        "img = apply_tfms(tfms, x, size=210)\n",
        "img.show(figsize=(6,3))\n",
        "img.shape"
      ],
      "execution_count": 0,
      "outputs": []
    },
    {
      "metadata": {
        "id": "jzIvKAhxJ_h2",
        "colab_type": "code",
        "colab": {}
      },
      "cell_type": "code",
      "source": [
        "tfms = [rotate(degrees=(40.,40.)),\n",
        "       crop_pad(row_pct=(0,1.), col_pct=(0,1.))]\n",
        "\n",
        "img = apply_tfms(tfms, x, size=210)\n",
        "img.show(figsize=(6,3))\n",
        "get_crop_target(210), img.shape"
      ],
      "execution_count": 0,
      "outputs": []
    },
    {
      "metadata": {
        "id": "z3HLbDCYJ_h5",
        "colab_type": "text"
      },
      "cell_type": "markdown",
      "source": [
        "# Fit"
      ]
    },
    {
      "metadata": {
        "id": "G9tp3hYsJ_h6",
        "colab_type": "text"
      },
      "cell_type": "markdown",
      "source": [
        "Let's see how our transforms look for different values of zoom, rotate and crop_pad."
      ]
    },
    {
      "metadata": {
        "id": "b00WxuanJ_h7",
        "colab_type": "text"
      },
      "cell_type": "markdown",
      "source": [
        "## Transform"
      ]
    },
    {
      "metadata": {
        "id": "rnemfvOZJ_h8",
        "colab_type": "code",
        "colab": {}
      },
      "cell_type": "code",
      "source": [
        "#export\n",
        "def rand_zoom(*args, **kwargs):\n",
        "    \"Random zoom tfm\"\n",
        "    return zoom(*args, row_pct=(0,1), col_pct=(0,1), **kwargs)\n",
        "def rand_crop(*args, **kwargs): \n",
        "    \"Random crop and pad\"\n",
        "    return crop_pad(*args, row_pct=(0,1), col_pct=(0,1), **kwargs)\n",
        "def zoom_crop(scale, do_rand=False, p=1.0):\n",
        "    \"Randomly zoom and/or crop\"\n",
        "    zoom_fn = rand_zoom if do_rand else zoom\n",
        "    crop_fn = rand_crop if do_rand else crop_pad\n",
        "    return [zoom_fn(scale=scale, p=p), crop_fn()]"
      ],
      "execution_count": 0,
      "outputs": []
    },
    {
      "metadata": {
        "id": "hj74hjppJ_iD",
        "colab_type": "code",
        "colab": {}
      },
      "cell_type": "code",
      "source": [
        "tfms = [\n",
        "    rotate(degrees=(-20,20.)),\n",
        "    *zoom_crop(scale=(1.,1.95), do_rand=True)\n",
        "]\n",
        "\n",
        "_,axes = plt.subplots(1,4, figsize=(12,3))\n",
        "for ax in axes.flat:\n",
        "    apply_tfms(tfms, x, padding_mode='zeros', do_crop=False, size=100).show(ax)"
      ],
      "execution_count": 0,
      "outputs": []
    },
    {
      "metadata": {
        "id": "Sw5yVhLaJ_iG",
        "colab_type": "code",
        "colab": {}
      },
      "cell_type": "code",
      "source": [
        "_,axes = plt.subplots(1,4, figsize=(12,3))\n",
        "for ax in axes.flat: apply_tfms(tfms, x, size=100).show(ax)"
      ],
      "execution_count": 0,
      "outputs": []
    },
    {
      "metadata": {
        "id": "v0rh1PctJ_iI",
        "colab_type": "text"
      },
      "cell_type": "markdown",
      "source": [
        "## Fit"
      ]
    },
    {
      "metadata": {
        "id": "4o-h3xGKJ_iI",
        "colab_type": "text"
      },
      "cell_type": "markdown",
      "source": [
        "Finally, with our choice of transforms and parameters we are going to fit our Darknet model and check our results. To fit our model we will need to resize our images to have the same size so we can feed them in batches to our model. We face the same decisions as before. \n",
        "\n",
        "In this case we chose to pad our images (since in \\_apply_affine do_crop default is False). If we wanted to crop instead, we can easily add do_crop=True to train_tds. \n",
        "\n",
        "We also decided to make our images square, with dimension size x size. If we wanted a rectangle with width to height ratio *a* we could have added aspect=*a* to train_ds."
      ]
    },
    {
      "metadata": {
        "id": "esLRP2J4J_iJ",
        "colab_type": "code",
        "colab": {}
      },
      "cell_type": "code",
      "source": [
        "size = 150"
      ],
      "execution_count": 0,
      "outputs": []
    },
    {
      "metadata": {
        "id": "LkmvuHkBJ_iM",
        "colab_type": "code",
        "colab": {}
      },
      "cell_type": "code",
      "source": [
        "train_tfms = [\n",
        "    rotate(degrees=(-20,20.)),\n",
        "    *zoom_crop(scale=(1.,2.))\n",
        "]\n",
        "valid_tfms = [crop_pad()]"
      ],
      "execution_count": 0,
      "outputs": []
    },
    {
      "metadata": {
        "id": "r0ojkr9aJ_iQ",
        "colab_type": "code",
        "colab": {}
      },
      "cell_type": "code",
      "source": [
        "_,axes = plt.subplots(1,4, figsize=(10,5))\n",
        "for ax in axes.flat: apply_tfms(train_tfms, x, size=size).show(ax)"
      ],
      "execution_count": 0,
      "outputs": []
    },
    {
      "metadata": {
        "id": "pzbttZ9IJ_iS",
        "colab_type": "code",
        "colab": {}
      },
      "cell_type": "code",
      "source": [
        "apply_tfms(valid_tfms, x, size=size).show()"
      ],
      "execution_count": 0,
      "outputs": []
    },
    {
      "metadata": {
        "id": "Kdr0VTwvJ_iU",
        "colab_type": "code",
        "colab": {}
      },
      "cell_type": "code",
      "source": [
        "bs = 128"
      ],
      "execution_count": 0,
      "outputs": []
    },
    {
      "metadata": {
        "id": "adUYjFrOJ_iY",
        "colab_type": "code",
        "colab": {}
      },
      "cell_type": "code",
      "source": [
        "valid_tds = DatasetTfm(valid_ds, valid_tfms, size=size)\n",
        "train_tds = DatasetTfm(train_ds, train_tfms, size=size)\n",
        "data = DataBunch.create(train_tds, valid_tds, bs=bs, num_workers=0)\n",
        "xb,yb = next(iter(data.train_dl))\n",
        "b = xb.transpose(1,0).reshape(3,-1)\n",
        "data_mean=b.mean(1).cpu()\n",
        "data_std=b.std(1).cpu()\n",
        "data_mean,data_std"
      ],
      "execution_count": 0,
      "outputs": []
    },
    {
      "metadata": {
        "id": "ftl2gL1kJ_ic",
        "colab_type": "code",
        "colab": {}
      },
      "cell_type": "code",
      "source": [
        "show_image_batch(data.train_dl, train_ds.classes, 4)"
      ],
      "execution_count": 0,
      "outputs": []
    },
    {
      "metadata": {
        "id": "C_N1EhXwJ_ie",
        "colab_type": "code",
        "colab": {}
      },
      "cell_type": "code",
      "source": [
        "norm,denorm = normalize_funcs(data_mean,data_std)"
      ],
      "execution_count": 0,
      "outputs": []
    },
    {
      "metadata": {
        "id": "H5N4dCAeJ_ih",
        "colab_type": "code",
        "colab": {}
      },
      "cell_type": "code",
      "source": [
        "data = DataBunch.create(train_tds, valid_tds, bs=bs, num_workers=12, tfms=norm)\n",
        "len(data.train_dl),len(data.valid_dl)"
      ],
      "execution_count": 0,
      "outputs": []
    },
    {
      "metadata": {
        "id": "Vf4jC67aJ_il",
        "colab_type": "code",
        "colab": {}
      },
      "cell_type": "code",
      "source": [
        "model = Darknet([1, 2, 4, 4, 2], num_classes=c, nf=16)\n",
        "learn = Learner(data, model)\n",
        "opt_fn = partial(optim.SGD, momentum=0.9)"
      ],
      "execution_count": 0,
      "outputs": []
    },
    {
      "metadata": {
        "id": "tLUvoaeqJ_in",
        "colab_type": "code",
        "colab": {}
      },
      "cell_type": "code",
      "source": [
        "learn.fit(1, 0.1, opt_fn=opt_fn)"
      ],
      "execution_count": 0,
      "outputs": []
    },
    {
      "metadata": {
        "id": "xy-K3VWPJ_ir",
        "colab_type": "code",
        "colab": {}
      },
      "cell_type": "code",
      "source": [
        "learn.fit(1, 0.2, opt_fn=opt_fn)"
      ],
      "execution_count": 0,
      "outputs": []
    },
    {
      "metadata": {
        "id": "pWMlCxrQJ_iv",
        "colab_type": "code",
        "colab": {}
      },
      "cell_type": "code",
      "source": [
        "learn.fit(5, 0.4, opt_fn=opt_fn)"
      ],
      "execution_count": 0,
      "outputs": []
    },
    {
      "metadata": {
        "id": "e0GgihZJJ_i0",
        "colab_type": "code",
        "colab": {}
      },
      "cell_type": "code",
      "source": [
        "learn.fit(5, 0.1, opt_fn=opt_fn)"
      ],
      "execution_count": 0,
      "outputs": []
    },
    {
      "metadata": {
        "id": "4RBVFeWjJ_i3",
        "colab_type": "code",
        "colab": {}
      },
      "cell_type": "code",
      "source": [
        "learn.fit(5, 0.01, opt_fn=opt_fn)"
      ],
      "execution_count": 0,
      "outputs": []
    },
    {
      "metadata": {
        "id": "I2u75r5jJ_i6",
        "colab_type": "text"
      },
      "cell_type": "markdown",
      "source": [
        "# Fin"
      ]
    },
    {
      "metadata": {
        "id": "lV82OHliJ_i7",
        "colab_type": "code",
        "colab": {}
      },
      "cell_type": "code",
      "source": [
        ""
      ],
      "execution_count": 0,
      "outputs": []
    }
  ]
}