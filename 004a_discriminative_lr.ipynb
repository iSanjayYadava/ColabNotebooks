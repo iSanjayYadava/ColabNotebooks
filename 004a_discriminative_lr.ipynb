{
  "nbformat": 4,
  "nbformat_minor": 0,
  "metadata": {
    "colab": {
      "name": "004a_discriminative_lr.ipynb",
      "version": "0.3.2",
      "provenance": [],
      "include_colab_link": true
    },
    "kernelspec": {
      "name": "python3",
      "display_name": "Python 3"
    },
    "accelerator": "GPU"
  },
  "cells": [
    {
      "cell_type": "markdown",
      "metadata": {
        "id": "view-in-github",
        "colab_type": "text"
      },
      "source": [
        "<a href=\"https://colab.research.google.com/github/iSanjayYadava/ColabNotebooks/blob/master/004a_discriminative_lr.ipynb\" target=\"_parent\"><img src=\"https://colab.research.google.com/assets/colab-badge.svg\" alt=\"Open In Colab\"/></a>"
      ]
    },
    {
      "metadata": {
        "id": "FULM3Q67fMOp",
        "colab_type": "code",
        "colab": {}
      },
      "cell_type": "code",
      "source": [
        "%reload_ext autoreload\n",
        "%autoreload 2"
      ],
      "execution_count": 0,
      "outputs": []
    },
    {
      "metadata": {
        "id": "ddg9JDc6fVae",
        "colab_type": "code",
        "colab": {
          "base_uri": "https://localhost:8080/",
          "height": 122
        },
        "outputId": "98517afd-dfab-4c95-f739-507b82c6e739"
      },
      "cell_type": "code",
      "source": [
        "from google.colab import drive\n",
        "drive.mount('/content/gdrive')"
      ],
      "execution_count": 2,
      "outputs": [
        {
          "output_type": "stream",
          "text": [
            "Go to this URL in a browser: https://accounts.google.com/o/oauth2/auth?client_id=947318989803-6bn6qk8qdgf4n4g3pfee6491hc0brc4i.apps.googleusercontent.com&redirect_uri=urn%3Aietf%3Awg%3Aoauth%3A2.0%3Aoob&scope=email%20https%3A%2F%2Fwww.googleapis.com%2Fauth%2Fdocs.test%20https%3A%2F%2Fwww.googleapis.com%2Fauth%2Fdrive%20https%3A%2F%2Fwww.googleapis.com%2Fauth%2Fdrive.photos.readonly%20https%3A%2F%2Fwww.googleapis.com%2Fauth%2Fpeopleapi.readonly&response_type=code\n",
            "\n",
            "Enter your authorization code:\n",
            "··········\n",
            "Mounted at /content/gdrive\n"
          ],
          "name": "stdout"
        }
      ]
    },
    {
      "metadata": {
        "id": "nxXVOmoffMOv",
        "colab_type": "code",
        "colab": {}
      },
      "cell_type": "code",
      "source": [
        "#export\n",
        "import sys\n",
        "sys.path.append('/content/gdrive/My Drive/ColabNotebooks/')\n",
        "from nb_004 import *"
      ],
      "execution_count": 0,
      "outputs": []
    },
    {
      "metadata": {
        "id": "qGxfXeaxwTVh",
        "colab_type": "text"
      },
      "cell_type": "markdown",
      "source": [
        "The map() function applies a given function to each item of an iterable (list, tuple etc.) and returns a list of the results.\n"
      ]
    },
    {
      "metadata": {
        "id": "owfGS0VAfMOz",
        "colab_type": "code",
        "colab": {}
      },
      "cell_type": "code",
      "source": [
        "DATA_PATH = Path('/content/gdrive/My Drive/ColabNotebooks/data')\n",
        "PATH = DATA_PATH/'cifar10_dog_air'\n",
        "#PATH = DATA_PATH/'cifar10'\n",
        "\n",
        "data_mean,data_std = map(tensor, ([0.491, 0.482, 0.447], [0.247, 0.243, 0.261]))\n",
        "cifar_norm,cifar_denorm = normalize_funcs(data_mean,data_std)\n",
        "\n",
        "train_tfms = [flip_lr(p=0.5),\n",
        "              pad(padding=4),\n",
        "              crop(size=32, row_pct=(0,1.), col_pct=(0,1.))]\n",
        "valid_tfms = []\n",
        "\n",
        "bs = 64"
      ],
      "execution_count": 0,
      "outputs": []
    },
    {
      "metadata": {
        "id": "cTVFGHs4fMO2",
        "colab_type": "text"
      },
      "cell_type": "markdown",
      "source": [
        "## Tweaks to the OptimWrapper to handle an array of lrs/wds/..."
      ]
    },
    {
      "metadata": {
        "id": "ydEHG1pBfMO3",
        "colab_type": "text"
      },
      "cell_type": "markdown",
      "source": [
        "We will modify OptimWrapper so that it accepts lists of hyperparameters (learning rate, weight decay, momentum, beta, alpha). We will use this by first defining a set of groups of layers and then defining one hyperparameter value for each group.\n",
        "\n",
        "An example of this is _Discriminative learning rates_, which consists of using different learning rates on different layers during training."
      ]
    },
    {
      "metadata": {
        "id": "NkOtWod1w5z3",
        "colab_type": "text"
      },
      "cell_type": "markdown",
      "source": [
        "The **filter()** method filters the given sequence with the help of a function \n",
        "that tests each element in the sequence to be true or not.\n",
        "returns an iterator that is already filtered."
      ]
    },
    {
      "metadata": {
        "id": "wpifRmz4xj8J",
        "colab_type": "text"
      },
      "cell_type": "markdown",
      "source": [
        "**torch.nn.Module**: \n",
        "\tBase class for all neural network modules.\n",
        "\tYour models should also subclass this class.\n",
        "  \n",
        "**torch.nn.Module.parameters**:\n",
        "\tReturns an iterator over module parameters."
      ]
    },
    {
      "metadata": {
        "id": "uyndjqE9ytW9",
        "colab_type": "text"
      },
      "cell_type": "markdown",
      "source": [
        "**torch.optim** is a package implementing various optimization algorithms.\n",
        "To use **torch.optim** you have to construct an optimizer object, \n",
        "that will hold the current state and will update the parameters based on the computed gradients.\n",
        "\n",
        "To construct an Optimizer you have to give it an iterable containing the parameters\n",
        "(all should be Variable s) to optimize. Then, you can specify optimizer-specific\n",
        "options such as the learning rate, weight decay, etc.\n",
        "\n",
        "Example:\n",
        "\n",
        "optimizer = optim.SGD(model.parameters(), lr = 0.01, momentum=0.9)\n",
        "optimizer = optim.Adam([var1, var2], lr = 0.0001)\n",
        "\n",
        "\n",
        "Optimizers also support specifying per-parameter options. To do this, \n",
        "instead of passing an iterable of Variables, pass in an iterable of dict s. \n",
        "Each of them will define a separate parameter group, and should contain a params key, \n",
        "containing a list of parameters belonging to it. Other keys should match the keyword \n",
        "arguments accepted by the optimizers, and will be used as optimization options for this group.\n",
        "\n",
        "**optim.SGD**([\n",
        "\n",
        "                {'params': model.base.parameters()},\n",
        "                {'params': model.classifier.parameters(), 'lr': 1e-3}\n",
        "          ], lr=1e-2, momentum=0.9)"
      ]
    },
    {
      "metadata": {
        "id": "Rz4saoyy0Ho_",
        "colab_type": "text"
      },
      "cell_type": "markdown",
      "source": [
        "torch.optim.Optimizer(params, defaults):Base class for all optimizers.\n",
        "\n",
        "**Parameters**:\t\n",
        "\n",
        "    params (iterable) – an iterable of torch.Tensor s or dict s. Specifies what Tensors should be optimized.\n",
        "    defaults – (dict): a dict containing default values of optimization options (used when a parameter group doesn’t specify them)\n",
        "\n",
        "**add_param_group**(param_group)\n",
        "\tAdd a param group to the Optimizer s param_groups.\n",
        "\tThis can be useful when fine tuning a pre-trained network as frozen layers can be made trainable and added to the Optimizer as training progresses.\n",
        "\n",
        "**load_state_dict**(state_dict)\n",
        "    Loads the optimizer state.\n",
        "    Parameters:\tstate_dict (dict) – optimizer state. Should be an object returned from a call to state_dict().\n",
        "\n",
        "**state_dict**()\n",
        "    Returns the state of the optimizer as a dict.\n",
        "    It contains two entries:\n",
        "        state - a dict holding current optimization state. Its content differs between optimizer classes.\n",
        "\n",
        "        param_groups - a dict containing all parameter groups\n",
        "\n",
        "**zero_grad**()\n",
        "    Clears the gradients of all optimized torch.Tensor s."
      ]
    },
    {
      "metadata": {
        "id": "6sJ65jIvfMO4",
        "colab_type": "code",
        "colab": {}
      },
      "cell_type": "code",
      "source": [
        "#export\n",
        "ModuleList = Collection[nn.Module]\n",
        "ParamList = Collection[nn.Parameter]\n",
        "\n",
        "bn_types = (nn.BatchNorm1d, nn.BatchNorm2d, nn.BatchNorm3d)\n",
        "\n",
        "def requires_grad(l:nn.Module, b:Optional[bool]=None)->Optional[bool]:\n",
        "    \"If b is not set requires_grad on all params in l, else return requires_grad of first param\"\n",
        "    ps = list(l.parameters())\n",
        "    if not ps: return None\n",
        "    if b is None: return ps[0].requires_grad\n",
        "    for p in ps: p.requires_grad=b\n",
        "\n",
        "def trainable_params(m:nn.Module)->ParamList: \n",
        "    \"Return list of trainable params in `m`\"\n",
        "    res = filter(lambda p: p.requires_grad, m.parameters())\n",
        "    return res\n",
        "\n",
        "def split_bn_bias(layer_groups:ModuleList)->ModuleList:\n",
        "    \"Sort each layer in  `layer_groups` into batchnorm (`bn_types`) and non-batchnorm groups\"\n",
        "    split_groups = []\n",
        "    for l in layer_groups:\n",
        "        l1,l2 = [],[]\n",
        "        for c in l.children():\n",
        "            if isinstance(c, bn_types): l2.append(c)\n",
        "            else:                       l1.append(c)\n",
        "        split_groups += [nn.Sequential(*l1), nn.Sequential(*l2)]\n",
        "    return split_groups"
      ],
      "execution_count": 0,
      "outputs": []
    },
    {
      "metadata": {
        "id": "6B9CtJ7mfMO7",
        "colab_type": "code",
        "colab": {
          "base_uri": "https://localhost:8080/",
          "height": 34
        },
        "outputId": "d68b6a34-3a54-4703-9468-2858a97c0245"
      },
      "cell_type": "code",
      "source": [
        "type(optim.SGD)"
      ],
      "execution_count": 6,
      "outputs": [
        {
          "output_type": "execute_result",
          "data": {
            "text/plain": [
              "type"
            ]
          },
          "metadata": {
            "tags": []
          },
          "execution_count": 6
        }
      ]
    },
    {
      "metadata": {
        "id": "cLHRpTUbfMO_",
        "colab_type": "code",
        "colab": {}
      },
      "cell_type": "code",
      "source": [
        "#export\n",
        "class OptimWrapper():\n",
        "    \"Basic wrapper around an optimizer to simplify HP changes\"\n",
        "    def __init__(self, opt:optim.Optimizer, wd:Floats=0., true_wd:bool=False, bn_wd:bool=True)->None:\n",
        "        self.opt,self.true_wd,self.bn_wd = opt,true_wd,bn_wd\n",
        "        self.opt_keys = list(self.opt.param_groups[0].keys())\n",
        "        self.opt_keys.remove('params')\n",
        "        self.read_defaults()\n",
        "        self.wd = wd\n",
        "        \n",
        "    @classmethod\n",
        "    def create(cls, opt_fn:Union[type,Callable], lr:Union[float,Tuple,List], \n",
        "               layer_groups:ModuleList, **kwargs:Any)->optim.Optimizer:\n",
        "        \"Create an optim.Optimizer from `opt_fn` with `lr`. Set lr on `layer_groups``\"\n",
        "        split_groups = split_bn_bias(layer_groups)\n",
        "        opt = opt_fn([{'params': trainable_params(l), 'lr':0} for l in split_groups])\n",
        "        opt = cls(opt, **kwargs)\n",
        "        opt.lr = listify(lr, layer_groups)\n",
        "        return opt\n",
        "    \n",
        "    def __repr__(self)->str:\n",
        "        return f'OptimWrapper over {repr(self.opt)}.\\nTrue weight decay: {self.true_wd}'\n",
        "\n",
        "    #Pytorch optimizer methods\n",
        "    def step(self)->None:\n",
        "        \"Set weight decay and step optimizer\"\n",
        "        # weight decay outside of optimizer step (AdamW)\n",
        "        if self.true_wd:\n",
        "            for lr,wd,pg1,pg2 in zip(self._lr,self._wd,self.opt.param_groups[::2],self.opt.param_groups[1::2]):\n",
        "                for p in pg1['params']: p.data.mul_(1 - wd*lr)\n",
        "                if self.bn_wd:\n",
        "                    for p in pg2['params']: p.data.mul_(1 - wd*lr)\n",
        "            self.set_val('weight_decay', listify(0, self._wd))\n",
        "        self.opt.step()\n",
        "    \n",
        "    def zero_grad(self)->None: \n",
        "        \"Clear optimizer gradients\"\n",
        "        self.opt.zero_grad()\n",
        "    \n",
        "    #Hyperparameters as properties\n",
        "    @property\n",
        "    def lr(self)->float: \n",
        "        \"Get learning rate\"\n",
        "        return self._lr[-1]\n",
        "\n",
        "    @lr.setter\n",
        "    def lr(self, val:float)->None: \n",
        "        \"Set learning rate\"\n",
        "        self._lr = self.set_val('lr', listify(val, self._lr))\n",
        "    \n",
        "    @property\n",
        "    def mom(self)->float: \n",
        "        \"Get momentum\"\n",
        "        return self._mom[-1]\n",
        "\n",
        "    @mom.setter\n",
        "    def mom(self, val:float)->None:\n",
        "        \"Set momentum\"\n",
        "        if 'momentum' in self.opt_keys: self.set_val('momentum', listify(val, self._mom))\n",
        "        elif 'betas' in self.opt_keys:  self.set_val('betas', (listify(val, self._mom), self._beta))\n",
        "        self._mom = listify(val, self._mom)\n",
        "    \n",
        "    @property\n",
        "    def beta(self)->float: \n",
        "        \"get beta\"\n",
        "        return None if self._beta is None else self._beta[-1]\n",
        "\n",
        "    @beta.setter\n",
        "    def beta(self, val:float)->None:\n",
        "        \"Set beta (or alpha as makes sense for give optimizer)\"\n",
        "        if val is None: return\n",
        "        if 'betas' in self.opt_keys:    self.set_val('betas', (self._mom, listify(val, self._beta)))\n",
        "        elif 'alpha' in self.opt_keys:  self.set_val('alpha', listify(val, self._beta))\n",
        "        self._beta = listify(val, self._beta)\n",
        "    \n",
        "    @property\n",
        "    def wd(self)->float: \n",
        "        \"Get weight decay\"\n",
        "        return self._wd[-1]\n",
        "\n",
        "    @wd.setter\n",
        "    def wd(self, val:float)->None:\n",
        "        \"Set weight decay\"\n",
        "        if not self.true_wd: self.set_val('weight_decay', listify(val, self._wd), bn_groups=self.bn_wd)\n",
        "        self._wd = listify(val, self._wd)\n",
        "    \n",
        "    #Helper functions\n",
        "    def read_defaults(self)->None:\n",
        "        \"Read the values inside the optimizer for the hyper-parameters\"\n",
        "        self._beta = None\n",
        "        if 'lr' in self.opt_keys: self._lr = self.read_val('lr')\n",
        "        if 'momentum' in self.opt_keys: self._mom = self.read_val('momentum')\n",
        "        if 'alpha' in self.opt_keys: self._beta = self.read_val('alpha')\n",
        "        if 'betas' in self.opt_keys: self._mom,self._beta = self.read_val('betas')\n",
        "        if 'weight_decay' in self.opt_keys: self._wd = self.read_val('weight_decay')\n",
        "    \n",
        "    def set_val(self, key:str, val:Any, bn_groups:bool=True)->Any:\n",
        "        \"Set the values inside the optimizer dictionary at the key\"\n",
        "        if is_tuple(val): val = [(v1,v2) for v1,v2 in zip(*val)]\n",
        "        for v,pg1,pg2 in zip(val,self.opt.param_groups[::2],self.opt.param_groups[1::2]): \n",
        "            pg1[key] = v\n",
        "            if bn_groups: pg2[key] = v\n",
        "        return val\n",
        "    \n",
        "    def read_val(self, key:str) -> Union[List[float],Tuple[List[float],List[float]]]:\n",
        "        \"Read a hyper-parameter key in the optimizer dictionary.\"\n",
        "        val = [pg[key] for pg in self.opt.param_groups[::2]]\n",
        "        if is_tuple(val[0]): val = [o[0] for o in val], [o[1] for o in val]\n",
        "        return val"
      ],
      "execution_count": 0,
      "outputs": []
    },
    {
      "metadata": {
        "id": "PSyX5SaGfMPC",
        "colab_type": "code",
        "colab": {}
      },
      "cell_type": "code",
      "source": [
        "#export\n",
        "def children(m:nn.Module)->ModuleList: \n",
        "    \"Get children of module\"\n",
        "    return list(m.children())\n",
        "def num_children(m:nn.Module)->int: \n",
        "    \"Get number of child modules in module\"\n",
        "    return len(children(m))\n",
        "def range_children(m:nn.Module)->Iterator[int]: \n",
        "    \"Return iterator of len of children of m\"\n",
        "    return range(num_children(m))\n",
        "\n",
        "flatten_model=lambda l: sum(map(flatten_model,l.children()),[]) if num_children(l) else [l]\n",
        "def first_layer(m:nn.Module)->nn.Module:\n",
        "    \"Retrieve first layer in a module\"\n",
        "    return flatten_model(m)[0]\n",
        "\n",
        "def split_model_idx(model:nn.Module, idxs:Collection[int])->ModuleList:\n",
        "    \"Split the model according to the indices in [idxs]\"\n",
        "    layers = flatten_model(model)\n",
        "    if idxs[0] != 0: idxs = [0] + idxs\n",
        "    if idxs[-1] != len(layers): idxs.append(len(layers))\n",
        "    return [nn.Sequential(*layers[i:j]) for i,j in zip(idxs[:-1],idxs[1:])]\n",
        "\n",
        "def split_model(model:nn.Module, splits:Collection[ModuleList], want_idxs:bool=False):\n",
        "    \"Split the model according to the layers in [splits]\"\n",
        "    layers = flatten_model(model)\n",
        "    idxs = [layers.index(first_layer(s)) for s in listify(splits)]\n",
        "    res = split_model_idx(model, idxs)\n",
        "    return (res,idxs) if want_idxs else res"
      ],
      "execution_count": 0,
      "outputs": []
    },
    {
      "metadata": {
        "id": "a4vBRtP9fMPH",
        "colab_type": "text"
      },
      "cell_type": "markdown",
      "source": [
        "We will now try our Wrapper with the Darknet neural net architecture."
      ]
    },
    {
      "metadata": {
        "id": "U1jn6VA1fMPJ",
        "colab_type": "code",
        "colab": {}
      },
      "cell_type": "code",
      "source": [
        "model = Darknet([1, 2, 2, 2, 2], num_classes=2, nf=16)"
      ],
      "execution_count": 0,
      "outputs": []
    },
    {
      "metadata": {
        "id": "YJ0JvkE_fMPR",
        "colab_type": "text"
      },
      "cell_type": "markdown",
      "source": [
        "We are now going to split the model in layers so that we can try our OptimWrapper with more than one value per hyperparameter. In particular, we are going to split the 18 layers in the model into three groups: 0-5, 6-9 and 10-18. Afterwards, when setting the value for our hyperparameters, we will need to define a different value for each of these groups."
      ]
    },
    {
      "metadata": {
        "id": "yaBh1BtwfMPT",
        "colab_type": "code",
        "colab": {
          "base_uri": "https://localhost:8080/",
          "height": 34
        },
        "outputId": "d93029fc-7e2b-4de5-9b0a-e4632ad1ee3c"
      },
      "cell_type": "code",
      "source": [
        "splits = [model.layers[9], model.layers[15]]\n",
        "layer_groups,idxs = split_model(model, splits, want_idxs=True)\n",
        "lrs = np.array([1e-3,1e-2,0.1])\n",
        "tst_opt = OptimWrapper.create(optim.SGD, lrs, layer_groups, bn_wd=False)\n",
        "idxs"
      ],
      "execution_count": 12,
      "outputs": [
        {
          "output_type": "execute_result",
          "data": {
            "text/plain": [
              "[42, 72]"
            ]
          },
          "metadata": {
            "tags": []
          },
          "execution_count": 12
        }
      ]
    },
    {
      "metadata": {
        "id": "1_h9vytLfMPV",
        "colab_type": "code",
        "colab": {
          "base_uri": "https://localhost:8080/",
          "height": 34
        },
        "outputId": "1e6fa508-2d7a-4e43-e82e-21bed563f470"
      },
      "cell_type": "code",
      "source": [
        "len(tst_opt.opt.param_groups), tst_opt.opt.param_groups[0]['weight_decay']"
      ],
      "execution_count": 13,
      "outputs": [
        {
          "output_type": "execute_result",
          "data": {
            "text/plain": [
              "(6, 0.0)"
            ]
          },
          "metadata": {
            "tags": []
          },
          "execution_count": 13
        }
      ]
    },
    {
      "metadata": {
        "id": "h4yXgucAfMPY",
        "colab_type": "code",
        "colab": {
          "base_uri": "https://localhost:8080/",
          "height": 34
        },
        "outputId": "0d281eb9-6e00-4dd8-ae79-530f78df16cd"
      },
      "cell_type": "code",
      "source": [
        "tst_opt.opt.param_groups[0]['lr'],tst_opt.opt.param_groups[1]['lr']"
      ],
      "execution_count": 14,
      "outputs": [
        {
          "output_type": "execute_result",
          "data": {
            "text/plain": [
              "(0.001, 0.001)"
            ]
          },
          "metadata": {
            "tags": []
          },
          "execution_count": 14
        }
      ]
    },
    {
      "metadata": {
        "id": "CbJ1EVUFfMPa",
        "colab_type": "code",
        "colab": {}
      },
      "cell_type": "code",
      "source": [
        "tst_opt.wd = 1e-2"
      ],
      "execution_count": 0,
      "outputs": []
    },
    {
      "metadata": {
        "id": "-wceO2EJfMPd",
        "colab_type": "code",
        "colab": {
          "base_uri": "https://localhost:8080/",
          "height": 34
        },
        "outputId": "74bb9b3b-e91b-426c-fdc0-63a43145056f"
      },
      "cell_type": "code",
      "source": [
        "tst_opt.opt.param_groups[0]['weight_decay'],tst_opt.opt.param_groups[1]['weight_decay']"
      ],
      "execution_count": 16,
      "outputs": [
        {
          "output_type": "execute_result",
          "data": {
            "text/plain": [
              "(0.01, 0)"
            ]
          },
          "metadata": {
            "tags": []
          },
          "execution_count": 16
        }
      ]
    },
    {
      "metadata": {
        "id": "4cQPyn7yfMPg",
        "colab_type": "code",
        "colab": {}
      },
      "cell_type": "code",
      "source": [
        "tst_opt.lr = 1e-2"
      ],
      "execution_count": 0,
      "outputs": []
    },
    {
      "metadata": {
        "id": "ZCKmLtY7fMPj",
        "colab_type": "code",
        "colab": {
          "base_uri": "https://localhost:8080/",
          "height": 34
        },
        "outputId": "37d50563-ffd3-4e66-a072-19e8854e015d"
      },
      "cell_type": "code",
      "source": [
        "tst_opt.opt.param_groups[0]['lr'],tst_opt.opt.param_groups[1]['lr']"
      ],
      "execution_count": 18,
      "outputs": [
        {
          "output_type": "execute_result",
          "data": {
            "text/plain": [
              "(0.01, 0.01)"
            ]
          },
          "metadata": {
            "tags": []
          },
          "execution_count": 18
        }
      ]
    },
    {
      "metadata": {
        "id": "dWubOgRgfMPl",
        "colab_type": "text"
      },
      "cell_type": "markdown",
      "source": [
        "We can set the hyperparameters in two ways:\n",
        "\n",
        "1. optimizer_object.\\_hyperparameter = [val1, val2 ..., valn] (n = number of layer groups)\n",
        "\n",
        "2. optimizer_object.hyperparameter = val\n",
        "\n",
        "If we chose to set it in way 1, we must specify a number of values exactly equal to the number of layer groups. If we chose to set it in way 2, the chosen value will be repeated for all layer groups."
      ]
    },
    {
      "metadata": {
        "id": "Kpu8iujwfMPm",
        "colab_type": "code",
        "colab": {
          "base_uri": "https://localhost:8080/",
          "height": 34
        },
        "outputId": "7ee05aca-1175-4864-e1cf-0ac8bba9a8db"
      },
      "cell_type": "code",
      "source": [
        "tst_opt.lr, tst_opt._lr"
      ],
      "execution_count": 19,
      "outputs": [
        {
          "output_type": "execute_result",
          "data": {
            "text/plain": [
              "(0.01, [0.01, 0.01, 0.01])"
            ]
          },
          "metadata": {
            "tags": []
          },
          "execution_count": 19
        }
      ]
    },
    {
      "metadata": {
        "id": "l02pOMFBfMPq",
        "colab_type": "code",
        "colab": {
          "base_uri": "https://localhost:8080/",
          "height": 34
        },
        "outputId": "d02cb654-a7f9-4e43-fdab-5a778cf8b07e"
      },
      "cell_type": "code",
      "source": [
        "tst_opt.wd, tst_opt._wd"
      ],
      "execution_count": 20,
      "outputs": [
        {
          "output_type": "execute_result",
          "data": {
            "text/plain": [
              "(0.01, [0.01, 0.01, 0.01])"
            ]
          },
          "metadata": {
            "tags": []
          },
          "execution_count": 20
        }
      ]
    },
    {
      "metadata": {
        "id": "P0IV3aqJfMPx",
        "colab_type": "code",
        "colab": {}
      },
      "cell_type": "code",
      "source": [
        "# expect exception\n",
        "# tst_opt.wd = [0.1,0.1]"
      ],
      "execution_count": 0,
      "outputs": []
    },
    {
      "metadata": {
        "id": "YGyjIi3-fMP2",
        "colab_type": "code",
        "colab": {}
      },
      "cell_type": "code",
      "source": [
        "# expect exception\n",
        "# tst_opt.lr = [0.1,0.1]"
      ],
      "execution_count": 0,
      "outputs": []
    },
    {
      "metadata": {
        "id": "EPU69-THfMP4",
        "colab_type": "text"
      },
      "cell_type": "markdown",
      "source": [
        "## Now let's tweak the learner to handle this."
      ]
    },
    {
      "metadata": {
        "id": "1IyGRtqTfMP5",
        "colab_type": "text"
      },
      "cell_type": "markdown",
      "source": [
        "We have added some important functions into the Learner class. We have built *create_opt* that creates the optimizer with the wrapper, _split_ that splits our model into layer groups, *freeze_to*, _freeze_ and _unfreeze_ that allow us to freeze and unfreeze parts of the network or even the whole network.\n",
        "\n",
        "Add gradient clipping at this stage in a callback."
      ]
    },
    {
      "metadata": {
        "id": "gFdAoDl3fMP6",
        "colab_type": "code",
        "colab": {}
      },
      "cell_type": "code",
      "source": [
        "#export\n",
        "bn_types = (nn.BatchNorm1d, nn.BatchNorm2d, nn.BatchNorm3d)\n",
        "\n",
        "def set_bn_eval(m:nn.Module)->None:\n",
        "    \"Set bn layers in eval mode for all recursive children of m\"\n",
        "    for l in m.children():\n",
        "        if isinstance(l, bn_types) and not next(l.parameters()).requires_grad:\n",
        "            l.eval()\n",
        "        set_bn_eval(l)\n",
        "\n",
        "@dataclass\n",
        "class BnFreeze(Callback):\n",
        "    \"Set all bntypes layers in `learn` to eval() on_epoch_begin\"\n",
        "    learn:Learner\n",
        "    def on_epoch_begin(self, **kwargs:Any)->None: \n",
        "        \"Put bn layers in eval mode on epoch_begin\"\n",
        "        set_bn_eval(self.learn.model)\n",
        "\n",
        "def even_mults(start:float, stop:float, n:int)->np.ndarray:\n",
        "    \"Build evenly stepped schedule from start to stop in n steps\"\n",
        "    mult = stop/start\n",
        "    step = mult**(1/(n-1))\n",
        "    return np.array([start*(step**i) for i in range(n)])\n",
        "\n",
        "default_lr = slice(3e-3)\n",
        "default_wd = 1e-2"
      ],
      "execution_count": 0,
      "outputs": []
    },
    {
      "metadata": {
        "id": "-8PXjj_zfMP9",
        "colab_type": "code",
        "colab": {}
      },
      "cell_type": "code",
      "source": [
        "#export\n",
        "\n",
        "SplitFuncOrIdxList = Union[Callable, Collection[ModuleList]]\n",
        "@dataclass\n",
        "class Learner():\n",
        "    \"Object that wraps together some data, a model, a loss function and an optimizer\"\n",
        "    data:DataBunch\n",
        "    model:nn.Module\n",
        "    opt_fn:Callable=AdamW\n",
        "    loss_fn:Callable=F.cross_entropy\n",
        "    metrics:Collection[Callable]=None\n",
        "    true_wd:bool=True\n",
        "    bn_wd:bool=True\n",
        "    wd:Floats=default_wd\n",
        "    train_bn:bool=True\n",
        "    path:str = None\n",
        "    model_dir:str = 'models'\n",
        "    callback_fns:Collection[Callable]=None\n",
        "    callbacks:Collection[Callback]=field(default_factory=list)\n",
        "    layer_groups:Collection[nn.Module]=None\n",
        "    def __post_init__(self)->None:\n",
        "        \"Setup path,metrics, callbacks and ensure model directory exists\"\n",
        "        self.path = Path(ifnone(self.path, self.data.path))\n",
        "        (self.path/self.model_dir).mkdir(parents=True, exist_ok=True)\n",
        "        self.model = self.model.to(self.data.device)\n",
        "        self.metrics=listify(self.metrics)\n",
        "        if not self.layer_groups: self.layer_groups = [nn.Sequential(*flatten_model(self.model))]\n",
        "        self.callbacks = listify(self.callbacks)\n",
        "        self.callback_fns = [Recorder] + listify(self.callback_fns)\n",
        "\n",
        "    def lr_range(self, lr:Union[float,slice])->np.ndarray:\n",
        "        \"Build learning rate schedule\"\n",
        "        if not isinstance(lr,slice): return lr\n",
        "        if lr.start: res = even_mults(lr.start, lr.stop, len(self.layer_groups))\n",
        "        else: res = [lr.stop/3]*(len(self.layer_groups)-1) + [lr.stop]\n",
        "        return np.array(res)\n",
        "        \n",
        "    def fit(self, epochs:int, lr:Union[Floats,slice]=default_lr, \n",
        "            wd:Floats=None, callbacks:Collection[Callback]=None)->None:\n",
        "        \"fit the model on this learner with `lr` learning rate, `wd` weight decay for `epochs` with `callbacks`\"\n",
        "        lr = self.lr_range(lr)\n",
        "        if wd is None: wd = self.wd\n",
        "        self.create_opt(lr, wd)\n",
        "        callbacks = [cb(self) for cb in self.callback_fns] + listify(callbacks)\n",
        "        fit(epochs, self.model, self.loss_fn, opt=self.opt, data=self.data, metrics=self.metrics,\n",
        "            callbacks=self.callbacks+callbacks)\n",
        "\n",
        "    def create_opt(self, lr:Floats, wd:Floats=0.)->None:\n",
        "        \"create optimizer with `lr` learning rate and `wd` weight decay\"\n",
        "        self.opt = OptimWrapper.create(self.opt_fn, lr, self.layer_groups, wd=wd, true_wd=self.true_wd, bn_wd=self.bn_wd)\n",
        "        \n",
        "    def split(self, split_on:SplitFuncOrIdxList)->None:\n",
        "        \"split the model at `split_on`\"\n",
        "        if isinstance(split_on,Callable): self.layer_groups = split_on(self.model)\n",
        "        else: self.layer_groups = split_model(self.model, split_on)\n",
        "\n",
        "    def freeze_to(self, n:int)->None:\n",
        "        \"freeze layers up to layer `n`\"\n",
        "        for g in self.layer_groups[:n]:\n",
        "            for l in g:\n",
        "                if not self.train_bn or not isinstance(l, bn_types): requires_grad(l, False)\n",
        "        for g in self.layer_groups[n:]: requires_grad(g, True)\n",
        "\n",
        "    def freeze(self)->None:\n",
        "        \"freeze up to last layer\"\n",
        "        assert(len(self.layer_groups)>1)\n",
        "        self.freeze_to(-1)\n",
        "        \n",
        "    def unfreeze(self): \n",
        "        \"unfreeze entire model\"\n",
        "        self.freeze_to(0)\n",
        "    def __del__(self): del(self.model, self.data)        \n",
        "    def save(self, name:PathOrStr): \n",
        "        \"save model with `name` to `self.model_dir`\"\n",
        "        torch.save(self.model.state_dict(), self.path/self.model_dir/f'{name}.pth')\n",
        "    def load(self, name:PathOrStr): \n",
        "        \"load model `name` from `self.model_dir\"\n",
        "        self.model.load_state_dict(torch.load(self.path/self.model_dir/f'{name}.pth'))"
      ],
      "execution_count": 0,
      "outputs": []
    },
    {
      "metadata": {
        "id": "QvtRA407fMQC",
        "colab_type": "code",
        "colab": {}
      },
      "cell_type": "code",
      "source": [
        "#export\n",
        "def fit_one_cycle(learn:Learner, cyc_len:int,\n",
        "                  max_lr:Union[Floats,slice]=default_lr, moms:Tuple[float,float]=(0.95,0.85),\n",
        "                  div_factor:float=25., pct_start:float=0.3, wd:float=None, **kwargs)->None:\n",
        "    \"Fits a model following the 1cycle policy\"\n",
        "    max_lr = learn.lr_range(max_lr)\n",
        "    cbs = [OneCycleScheduler(learn, max_lr, moms=moms, div_factor=div_factor,\n",
        "                             pct_start=pct_start, **kwargs)]\n",
        "    learn.fit(cyc_len, max_lr, wd=wd, callbacks=cbs)\n",
        "\n",
        "Learner.fit_one_cycle = fit_one_cycle\n",
        "Learner.lr_find = lr_find"
      ],
      "execution_count": 0,
      "outputs": []
    },
    {
      "metadata": {
        "id": "GmG0YAXAfMQI",
        "colab_type": "code",
        "colab": {
          "base_uri": "https://localhost:8080/",
          "height": 34
        },
        "outputId": "f314e692-eb62-43ae-8099-9daba6512d29"
      },
      "cell_type": "code",
      "source": [
        "train_ds = ImageDataset.from_folder(PATH/'train', classes=['airplane','dog'])\n",
        "valid_ds = ImageDataset.from_folder(PATH/'test', classes=['airplane','dog'])\n",
        "data = DataBunch.create(train_ds, valid_ds, bs=bs, train_tfm=train_tfms, valid_tfm=valid_tfms, dl_tfms=cifar_norm)\n",
        "len(data.train_dl), len(data.valid_dl)"
      ],
      "execution_count": 27,
      "outputs": [
        {
          "output_type": "execute_result",
          "data": {
            "text/plain": [
              "(129, 4)"
            ]
          },
          "metadata": {
            "tags": []
          },
          "execution_count": 27
        }
      ]
    },
    {
      "metadata": {
        "id": "_ehr0fcmfMQK",
        "colab_type": "code",
        "colab": {}
      },
      "cell_type": "code",
      "source": [
        "model = Darknet([1, 2, 2, 2, 2], num_classes=2, nf=16)\n",
        "learn = Learner(data, model, true_wd=True)\n",
        "learn.metrics = [accuracy]\n",
        "learn.split((model.layers[9],model.layers[15]))\n",
        "learn.freeze()"
      ],
      "execution_count": 0,
      "outputs": []
    },
    {
      "metadata": {
        "id": "CPxvliDKfMQO",
        "colab_type": "code",
        "colab": {
          "base_uri": "https://localhost:8080/",
          "height": 102
        },
        "outputId": "444ac41f-f83d-4dbc-9cdf-0c963b3786af"
      },
      "cell_type": "code",
      "source": [
        "l1,l2 = model.layers[0],model.layers[-1]; l1,l2"
      ],
      "execution_count": 29,
      "outputs": [
        {
          "output_type": "execute_result",
          "data": {
            "text/plain": [
              "(Sequential(\n",
              "   (0): Conv2d(3, 16, kernel_size=(3, 3), stride=(1, 1), padding=(1, 1), bias=False)\n",
              "   (1): BatchNorm2d(16, eps=1e-05, momentum=0.1, affine=True, track_running_stats=True)\n",
              "   (2): LeakyReLU(negative_slope=0.1, inplace)\n",
              " ), Linear(in_features=512, out_features=2, bias=True))"
            ]
          },
          "metadata": {
            "tags": []
          },
          "execution_count": 29
        }
      ]
    },
    {
      "metadata": {
        "id": "sZWm9UusfMQS",
        "colab_type": "code",
        "colab": {
          "base_uri": "https://localhost:8080/",
          "height": 34
        },
        "outputId": "9ada84cd-ef2c-4d03-8d16-b8d6bed992d7"
      },
      "cell_type": "code",
      "source": [
        "requires_grad(l1[0]),requires_grad(l1[1]),requires_grad(l2)"
      ],
      "execution_count": 30,
      "outputs": [
        {
          "output_type": "execute_result",
          "data": {
            "text/plain": [
              "(False, True, True)"
            ]
          },
          "metadata": {
            "tags": []
          },
          "execution_count": 30
        }
      ]
    },
    {
      "metadata": {
        "id": "x1DyWOU_fMQV",
        "colab_type": "text"
      },
      "cell_type": "markdown",
      "source": [
        "As we know, setting a hyperparameter to a list of length different from the number of layer groups will return an error."
      ]
    },
    {
      "metadata": {
        "id": "ohDqA3vXfMQW",
        "colab_type": "code",
        "colab": {}
      },
      "cell_type": "code",
      "source": [
        "# expect exception\n",
        "# learn.fit(1, [0.1,0.1], wd=1e-2)"
      ],
      "execution_count": 0,
      "outputs": []
    },
    {
      "metadata": {
        "id": "5VZW4IPvfMQZ",
        "colab_type": "code",
        "colab": {
          "base_uri": "https://localhost:8080/",
          "height": 86
        },
        "outputId": "5b8bffef-f541-48ab-d43a-47f9e6af06d4"
      },
      "cell_type": "code",
      "source": [
        "learn.fit_one_cycle(1, slice(1e-1))"
      ],
      "execution_count": 32,
      "outputs": [
        {
          "output_type": "display_data",
          "data": {
            "text/html": [
              "Total time: 32:38 <p>epoch  train loss  valid loss  accuracy<p>0      0.320104    0.285866    0.905128"
            ],
            "text/plain": [
              "<IPython.core.display.HTML object>"
            ]
          },
          "metadata": {
            "tags": []
          }
        }
      ]
    },
    {
      "metadata": {
        "id": "n2q0h7WRfMQb",
        "colab_type": "code",
        "colab": {
          "base_uri": "https://localhost:8080/",
          "height": 347
        },
        "outputId": "b5376885-196d-4220-8f28-92eecc26393d"
      },
      "cell_type": "code",
      "source": [
        "learn.recorder.plot_lr()"
      ],
      "execution_count": 33,
      "outputs": [
        {
          "output_type": "display_data",
          "data": {
            "image/png": "[encoded data removed]",
            "text/plain": [
              "<Figure size 576x396 with 1 Axes>"
            ]
          },
          "metadata": {
            "tags": []
          }
        }
      ]
    },
    {
      "metadata": {
        "id": "148hhmyofMQd",
        "colab_type": "code",
        "colab": {
          "base_uri": "https://localhost:8080/",
          "height": 86
        },
        "outputId": "166b205e-90b0-4cf4-ee69-6f20b086f0c2"
      },
      "cell_type": "code",
      "source": [
        "learn.fit(1, 1e-1, wd=1e-2)"
      ],
      "execution_count": 34,
      "outputs": [
        {
          "output_type": "display_data",
          "data": {
            "text/html": [
              "Total time: 00:27 <p>epoch  train loss  valid loss  accuracy<p>0      0.375506    1.343470    0.464103"
            ],
            "text/plain": [
              "<IPython.core.display.HTML object>"
            ]
          },
          "metadata": {
            "tags": []
          }
        }
      ]
    },
    {
      "metadata": {
        "id": "Ya_3utg6fMQf",
        "colab_type": "code",
        "colab": {
          "base_uri": "https://localhost:8080/",
          "height": 34
        },
        "outputId": "c521d9d2-b27e-4738-ac11-036c159ed776"
      },
      "cell_type": "code",
      "source": [
        "learn.opt._lr"
      ],
      "execution_count": 35,
      "outputs": [
        {
          "output_type": "execute_result",
          "data": {
            "text/plain": [
              "[0.1, 0.1, 0.1]"
            ]
          },
          "metadata": {
            "tags": []
          },
          "execution_count": 35
        }
      ]
    },
    {
      "metadata": {
        "id": "S5ApuIOMfMQk",
        "colab_type": "code",
        "colab": {
          "base_uri": "https://localhost:8080/",
          "height": 86
        },
        "outputId": "16dd2bf0-f03b-4458-ab7f-d68d6b39490f"
      },
      "cell_type": "code",
      "source": [
        "learn.fit(1, slice(1e-3,1e-1), wd=1e-2)"
      ],
      "execution_count": 36,
      "outputs": [
        {
          "output_type": "display_data",
          "data": {
            "text/html": [
              "Total time: 00:27 <p>epoch  train loss  valid loss  accuracy<p>0      0.289606    0.411047    0.871795"
            ],
            "text/plain": [
              "<IPython.core.display.HTML object>"
            ]
          },
          "metadata": {
            "tags": []
          }
        }
      ]
    },
    {
      "metadata": {
        "id": "vI_iwbTOfMQo",
        "colab_type": "code",
        "colab": {
          "base_uri": "https://localhost:8080/",
          "height": 34
        },
        "outputId": "5c01ad5a-522d-462d-ae74-b886e808fb44"
      },
      "cell_type": "code",
      "source": [
        "learn.opt._lr"
      ],
      "execution_count": 37,
      "outputs": [
        {
          "output_type": "execute_result",
          "data": {
            "text/plain": [
              "[0.001, 0.01, 0.1]"
            ]
          },
          "metadata": {
            "tags": []
          },
          "execution_count": 37
        }
      ]
    },
    {
      "metadata": {
        "id": "-VRH7GmyfMQq",
        "colab_type": "code",
        "colab": {}
      },
      "cell_type": "code",
      "source": [
        "learn.unfreeze()"
      ],
      "execution_count": 0,
      "outputs": []
    },
    {
      "metadata": {
        "id": "d1Yk68IBfMQs",
        "colab_type": "code",
        "colab": {
          "base_uri": "https://localhost:8080/",
          "height": 34
        },
        "outputId": "c760344b-9def-4110-a86a-6615621cde6d"
      },
      "cell_type": "code",
      "source": [
        "requires_grad(l1[0]),requires_grad(l1[1]),requires_grad(l2)"
      ],
      "execution_count": 39,
      "outputs": [
        {
          "output_type": "execute_result",
          "data": {
            "text/plain": [
              "(True, True, True)"
            ]
          },
          "metadata": {
            "tags": []
          },
          "execution_count": 39
        }
      ]
    },
    {
      "metadata": {
        "id": "aXkX1cYPfMQu",
        "colab_type": "code",
        "colab": {
          "base_uri": "https://localhost:8080/",
          "height": 86
        },
        "outputId": "680964fc-86ce-41af-f8f5-9231a1977b1e"
      },
      "cell_type": "code",
      "source": [
        "learn.fit(1, lrs, wd=1e-2)"
      ],
      "execution_count": 40,
      "outputs": [
        {
          "output_type": "display_data",
          "data": {
            "text/html": [
              "Total time: 00:27 <p>epoch  train loss  valid loss  accuracy<p>0      0.304221    0.407935    0.851282"
            ],
            "text/plain": [
              "<IPython.core.display.HTML object>"
            ]
          },
          "metadata": {
            "tags": []
          }
        }
      ]
    },
    {
      "metadata": {
        "id": "OifLw1_VfMQx",
        "colab_type": "code",
        "colab": {}
      },
      "cell_type": "code",
      "source": [
        "model = Darknet([1, 2, 2, 2, 2], num_classes=2, nf=16)\n",
        "learn = Learner(data, model)\n",
        "learn.metrics = [accuracy]"
      ],
      "execution_count": 0,
      "outputs": []
    },
    {
      "metadata": {
        "id": "5W7Zy3n3fMQ0",
        "colab_type": "code",
        "colab": {
          "base_uri": "https://localhost:8080/",
          "height": 86
        },
        "outputId": "b6f89262-a4ff-4bbf-853b-3179e90d6d42"
      },
      "cell_type": "code",
      "source": [
        "learn.fit(1,0.1)"
      ],
      "execution_count": 42,
      "outputs": [
        {
          "output_type": "display_data",
          "data": {
            "text/html": [
              "Total time: 00:27 <p>epoch  train loss  valid loss  accuracy<p>0      0.548543    0.515250    0.876923"
            ],
            "text/plain": [
              "<IPython.core.display.HTML object>"
            ]
          },
          "metadata": {
            "tags": []
          }
        }
      ]
    },
    {
      "metadata": {
        "id": "wcGCT4ESfMQ4",
        "colab_type": "code",
        "colab": {
          "base_uri": "https://localhost:8080/",
          "height": 34
        },
        "outputId": "ab63cd69-cae1-454b-f4c5-91a6b3bd501b"
      },
      "cell_type": "code",
      "source": [
        "learn.opt._lr"
      ],
      "execution_count": 43,
      "outputs": [
        {
          "output_type": "execute_result",
          "data": {
            "text/plain": [
              "[0.1]"
            ]
          },
          "metadata": {
            "tags": []
          },
          "execution_count": 43
        }
      ]
    },
    {
      "metadata": {
        "id": "iOBYQfytfMQ6",
        "colab_type": "code",
        "colab": {}
      },
      "cell_type": "code",
      "source": [
        "def darknet_split(m) : return split_model(m,[m.layers[9],m.layers[15]])"
      ],
      "execution_count": 0,
      "outputs": []
    },
    {
      "metadata": {
        "id": "8SBY0d6pfMQ9",
        "colab_type": "code",
        "colab": {}
      },
      "cell_type": "code",
      "source": [
        "model = Darknet([1, 2, 2, 2, 2], num_classes=2, nf=16)\n",
        "learn = Learner(data, model, metrics=[accuracy])\n",
        "learn.split(darknet_split)"
      ],
      "execution_count": 0,
      "outputs": []
    },
    {
      "metadata": {
        "id": "Tpz_UVAhfMRA",
        "colab_type": "code",
        "colab": {
          "base_uri": "https://localhost:8080/",
          "height": 34
        },
        "outputId": "3b6961e2-58a2-4165-ba1b-e3dc2ec9adf3"
      },
      "cell_type": "code",
      "source": [
        "len(learn.layer_groups)"
      ],
      "execution_count": 46,
      "outputs": [
        {
          "output_type": "execute_result",
          "data": {
            "text/plain": [
              "3"
            ]
          },
          "metadata": {
            "tags": []
          },
          "execution_count": 46
        }
      ]
    },
    {
      "metadata": {
        "id": "5cNJeXbtfMRE",
        "colab_type": "code",
        "colab": {
          "base_uri": "https://localhost:8080/",
          "height": 86
        },
        "outputId": "479821a1-0c31-424a-e6c2-f40173622108"
      },
      "cell_type": "code",
      "source": [
        "learn.fit(1, lrs, wd=[1e-4,1e-3,1e-2])"
      ],
      "execution_count": 47,
      "outputs": [
        {
          "output_type": "display_data",
          "data": {
            "text/html": [
              "Total time: 00:28 <p>epoch  train loss  valid loss  accuracy<p>0      0.492684    0.371107    0.838462"
            ],
            "text/plain": [
              "<IPython.core.display.HTML object>"
            ]
          },
          "metadata": {
            "tags": []
          }
        }
      ]
    },
    {
      "metadata": {
        "id": "Tt0tUOWyfMRH",
        "colab_type": "code",
        "colab": {
          "base_uri": "https://localhost:8080/",
          "height": 34
        },
        "outputId": "5352ad92-9a9b-4e50-88d3-1a36020d2fe1"
      },
      "cell_type": "code",
      "source": [
        "learn.opt._wd"
      ],
      "execution_count": 48,
      "outputs": [
        {
          "output_type": "execute_result",
          "data": {
            "text/plain": [
              "[0.0001, 0.001, 0.01]"
            ]
          },
          "metadata": {
            "tags": []
          },
          "execution_count": 48
        }
      ]
    },
    {
      "metadata": {
        "id": "iCYiIPVCfMRJ",
        "colab_type": "code",
        "colab": {}
      },
      "cell_type": "code",
      "source": [
        "# exception expected\n",
        "# learn.fit(1, lrs, wd=[1e-4,1e-3])"
      ],
      "execution_count": 0,
      "outputs": []
    },
    {
      "metadata": {
        "id": "3vtc2D1bfMRL",
        "colab_type": "text"
      },
      "cell_type": "markdown",
      "source": [
        "LRs and WDs are the easiest to pass through the Learner, but if a Callback sets an array of moms or betas, the OptimWrapper will handle them as discriminative moms/betas."
      ]
    },
    {
      "metadata": {
        "id": "3GGBh_kkfMRN",
        "colab_type": "text"
      },
      "cell_type": "markdown",
      "source": [
        "## See how it fits with the other callbacks"
      ]
    },
    {
      "metadata": {
        "id": "PohalTugfMRO",
        "colab_type": "code",
        "colab": {}
      },
      "cell_type": "code",
      "source": [
        "model = Darknet([1, 2, 2, 2, 2], num_classes=2, nf=16)\n",
        "learn = Learner(data, model, metrics = [accuracy])\n",
        "learn.split(darknet_split)"
      ],
      "execution_count": 0,
      "outputs": []
    },
    {
      "metadata": {
        "id": "JX4szXDCfMRS",
        "colab_type": "code",
        "colab": {
          "base_uri": "https://localhost:8080/",
          "height": 80
        },
        "outputId": "8258dba7-e101-4965-b302-c542fe856bb0"
      },
      "cell_type": "code",
      "source": [
        "lr_find(learn, start_lr=lrs/1000, end_lr=lrs*100)"
      ],
      "execution_count": 50,
      "outputs": [
        {
          "output_type": "display_data",
          "data": {
            "text/html": [
              "\n",
              "    <div>\n",
              "        <style>\n",
              "            /* Turns off some styling */\n",
              "            progress {\n",
              "                /* gets rid of default border in Firefox and Opera. */\n",
              "                border: none;\n",
              "                /* Needs to be in here for Safari polyfill so background images work as expected. */\n",
              "                background-size: auto;\n",
              "            }\n",
              "            .progress-bar-interrupted, .progress-bar-interrupted::-webkit-progress-bar {\n",
              "                background: #F44336;\n",
              "            }\n",
              "        </style>\n",
              "      <progress value='0' class='' max='1', style='width:300px; height:20px; vertical-align: middle;'></progress>\n",
              "      0.00% [0/1 00:00<00:00]\n",
              "    </div>\n",
              "    \n",
              "epoch  train loss  valid loss  accuracy<p>\n",
              "\n",
              "    <div>\n",
              "        <style>\n",
              "            /* Turns off some styling */\n",
              "            progress {\n",
              "                /* gets rid of default border in Firefox and Opera. */\n",
              "                border: none;\n",
              "                /* Needs to be in here for Safari polyfill so background images work as expected. */\n",
              "                background-size: auto;\n",
              "            }\n",
              "            .progress-bar-interrupted, .progress-bar-interrupted::-webkit-progress-bar {\n",
              "                background: #F44336;\n",
              "            }\n",
              "        </style>\n",
              "      <progress value='0' class='progress-bar-interrupted' max='129', style='width:300px; height:20px; vertical-align: middle;'></progress>\n",
              "      Interrupted\n",
              "    </div>\n",
              "    "
            ],
            "text/plain": [
              "<IPython.core.display.HTML object>"
            ]
          },
          "metadata": {
            "tags": []
          }
        }
      ]
    },
    {
      "metadata": {
        "id": "TZGe9OP1fMRV",
        "colab_type": "code",
        "colab": {
          "base_uri": "https://localhost:8080/",
          "height": 351
        },
        "outputId": "692cd85e-3ba2-4a9b-ab1e-5d2f35e6d54a"
      },
      "cell_type": "code",
      "source": [
        "learn.recorder.plot()"
      ],
      "execution_count": 51,
      "outputs": [
        {
          "output_type": "display_data",
          "data": {
            "image/png": "[encoded data removed]",
            "text/plain": [
              "<Figure size 576x396 with 1 Axes>"
            ]
          },
          "metadata": {
            "tags": []
          }
        }
      ]
    },
    {
      "metadata": {
        "id": "wjTbFIoFfMRX",
        "colab_type": "code",
        "colab": {
          "base_uri": "https://localhost:8080/",
          "height": 86
        },
        "outputId": "744d1b04-4830-4050-f731-e889c883ca26"
      },
      "cell_type": "code",
      "source": [
        "sched = OneCycleScheduler(learn, lrs)\n",
        "learn.fit(1, lrs, callbacks=[sched])"
      ],
      "execution_count": 52,
      "outputs": [
        {
          "output_type": "display_data",
          "data": {
            "text/html": [
              "Total time: 00:28 <p>epoch  train loss  valid loss  accuracy<p>0      0.255261    0.213050    0.900000"
            ],
            "text/plain": [
              "<IPython.core.display.HTML object>"
            ]
          },
          "metadata": {
            "tags": []
          }
        }
      ]
    },
    {
      "metadata": {
        "id": "01stcDp-fMRc",
        "colab_type": "code",
        "colab": {}
      },
      "cell_type": "code",
      "source": [
        ""
      ],
      "execution_count": 0,
      "outputs": []
    }
  ]
}